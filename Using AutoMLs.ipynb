{
 "cells": [
  {
   "cell_type": "markdown",
   "id": "attended-geology",
   "metadata": {},
   "source": [
    "In this notebook, we want to explore the use of Auto ML and hopefully combining Auto ML with GPUs. As a baseline, we want to reimplement the Oral Prep model using Auto ML and compare results.\n",
    "\n",
    "Of particular importance is to check for the following:\n",
    "* **How early stopping is carried out - since models can run for a long time:**\n",
    "    Various early stopping parameters [are enabled](http://docs.h2o.ai/h2o/latest-stable/h2o-docs/data-science/early_stopping.html) by default and they seem sufficient. For best results, it's recommended to provide the validation dataframe for additional early stopping.\n",
    "* **Whether feature selection is automatically performed:** Feature selection or engineering is not supported. An alternative product called [H2O Driverless AI](https://www.h2o.ai/products/h2o-driverless-ai/automatic-feature-engineering/) is provided for this task.\n",
    "* **Whether features can be limited to a certain user-specified number:** Feature engineering is not supported.\n",
    "* **How issues like overfitting and class imbalance are handled:** Only over/under sampling is [supported.](http://docs.h2o.ai/h2o/latest-stable/h2o-docs/automl.html)\n",
    "* **Algorithms supported** - AutoML supports a [less number of models](http://docs.h2o.ai/h2o/latest-stable/h2o-docs/data-science.html#supervised) than say caret since some models such as decision tree, conditional inference trees, knn, logistic regression, etc. are missing.\n",
    "* Perform the same with AutoKeras"
   ]
  },
  {
   "cell_type": "code",
   "execution_count": 1,
   "id": "chubby-natural",
   "metadata": {},
   "outputs": [
    {
     "data": {
      "text/html": [
       "<style>\n",
       ".list-inline {list-style: none; margin:0; padding: 0}\n",
       ".list-inline>li {display: inline-block}\n",
       ".list-inline>li:not(:last-child)::after {content: \"\\00b7\"; padding: 0 .5ex}\n",
       "</style>\n",
       "<ol class=list-inline><li>'arules'</li><li>'arulesViz'</li><li>'askpass'</li><li>'assertthat'</li><li>'attempt'</li><li>'backports'</li><li>'base64enc'</li><li>'BBmisc'</li><li>'benchmarkme'</li><li>'benchmarkmeData'</li><li>'bestglm'</li><li>'BH'</li><li>'bigassertr'</li><li>'bigreadr'</li><li>'bit'</li><li>'bit64'</li><li>'bitops'</li><li>'blob'</li><li>'brew'</li><li>'brio'</li><li>'broom'</li><li>'cachem'</li><li>'callr'</li><li>'caret'</li><li>'caTools'</li><li>'cellranger'</li><li>'checkmate'</li><li>'cli'</li><li>'clipr'</li><li>'coin'</li><li>'colorspace'</li><li>'commonmark'</li><li>'covr'</li><li>'cpp11'</li><li>'crayon'</li><li>'credentials'</li><li>'crosstalk'</li><li>'curl'</li><li>'data.table'</li><li>'DBI'</li><li>'dbplyr'</li><li>'dendextend'</li><li>'desc'</li><li>'DescTools'</li><li>'devtools'</li><li>'diffobj'</li><li>'digest'</li><li>'disk.frame'</li><li>'doParallel'</li><li>'dplyr'</li><li>'DT'</li><li>'dtplyr'</li><li>'e1071'</li><li>'ellipsis'</li><li>'evaluate'</li><li>'Exact'</li><li>'expm'</li><li>'fansi'</li><li>'farver'</li><li>'fastDummies'</li><li>'fastmap'</li><li>'fastmatch'</li><li>'filelock'</li><li>'forcats'</li><li>'foreach'</li><li>'fs'</li><li>'fst'</li><li>'furrr'</li><li>'future'</li><li>'future.apply'</li><li>'fuzzyjoin'</li><li>'gclus'</li><li>'gdalUtils'</li><li>'generics'</li><li>'geosphere'</li><li>'gert'</li><li>'getPass'</li><li>'ggplot2'</li><li>'ggthemes'</li><li>'gh'</li><li>'gitcreds'</li><li>'gld'</li><li>'glmnet'</li><li>'globals'</li><li>'glue'</li><li>'gower'</li><li>'gplots'</li><li>'gridExtra'</li><li>'grpreg'</li><li>'gtable'</li><li>'gtools'</li><li>'h2o'</li><li>'haven'</li><li>'highcharter'</li><li>'highr'</li><li>'hms'</li><li>'htmltools'</li><li>'htmlwidgets'</li><li>'httpuv'</li><li>'httr'</li><li>'hunspell'</li><li>'igraph'</li><li>'ini'</li><li>'ipred'</li><li>'IRdisplay'</li><li>'IRkernel'</li><li>'isoband'</li><li>'iterators'</li><li>'janeaustenr'</li><li>'janitor'</li><li>'jsonlite'</li><li>'kernlab'</li><li>'keyring'</li><li>'knitr'</li><li>'labeling'</li><li>'later'</li><li>'lava'</li><li>'lazyeval'</li><li>'leaflet'</li><li>'leaflet.providers'</li><li>'leaps'</li><li>'learnr'</li><li>'libcoin'</li><li>'lifecycle'</li><li>'listenv'</li><li>'lmom'</li><li>'lmtest'</li><li>'locfit'</li><li>'lubridate'</li><li>'magrittr'</li><li>'markdown'</li><li>'matrixStats'</li><li>'memoise'</li><li>'mime'</li><li>'mlr'</li><li>'ModelMetrics'</li><li>'modelr'</li><li>'modeltools'</li><li>'multcomp'</li><li>'munsell'</li><li>'mvtnorm'</li><li>'NCmisc'</li><li>'numDeriv'</li><li>'odbc'</li><li>'openssl'</li><li>'packrat'</li><li>'pacman'</li><li>'parallelly'</li><li>'parallelMap'</li><li>'ParamHelpers'</li><li>'party'</li><li>'pbdZMQ'</li><li>'pillar'</li><li>'pkgbuild'</li><li>'pkgconfig'</li><li>'pkgload'</li><li>'plogr'</li><li>'plotly'</li><li>'pls'</li><li>'plumber'</li><li>'plyr'</li><li>'png'</li><li>'praise'</li><li>'prettyunits'</li><li>'pROC'</li><li>'processx'</li><li>'prodlim'</li><li>'proftools'</li><li>'progress'</li><li>'promises'</li><li>'pryr'</li><li>'ps'</li><li>'purrr'</li><li>'qap'</li><li>'quadprog'</li><li>'quantmod'</li><li>'R.methodsS3'</li><li>'R.oo'</li><li>'R.utils'</li><li>'R6'</li><li>'randomForest'</li><li>'rappdirs'</li><li>'raster'</li><li>'rcmdcheck'</li><li>'RColorBrewer'</li><li>'Rcpp'</li><li>'RCurl'</li><li>'reader'</li><li>'readr'</li><li>'readxl'</li><li>'recipes'</li><li>'regclass'</li><li>'registry'</li><li>'rematch'</li><li>'rematch2'</li><li>'remotes'</li><li>'renv'</li><li>'repr'</li><li>'reprex'</li><li>'reshape2'</li><li>'reticulate'</li><li>'rex'</li><li>'rgdal'</li><li>'rJava'</li><li>'rjson'</li><li>'rlang'</li><li>'rlist'</li><li>'rmarkdown'</li><li>'RMySQL'</li><li>'rootSolve'</li><li>'roxygen2'</li><li>'rpart.plot'</li><li>'RPostgres'</li><li>'rprojroot'</li><li>'rsconnect'</li><li>'rstudioapi'</li><li>'rversions'</li><li>'rvest'</li><li>'sandwich'</li><li>'scales'</li><li>'scatterplot3d'</li><li>'selectr'</li><li>'seriation'</li><li>'sessioninfo'</li><li>'shape'</li><li>'shiny'</li><li>'shinydashboard'</li><li>'shinythemes'</li><li>'skimr'</li><li>'snakecase'</li><li>'SnowballC'</li><li>'sodium'</li><li>'sortable'</li><li>'sourcetools'</li><li>'sp'</li><li>'SQUAREM'</li><li>'stringdist'</li><li>'stringi'</li><li>'stringr'</li><li>'strucchange'</li><li>'swagger'</li><li>'sys'</li><li>'tabulizer'</li><li>'tabulizerjars'</li><li>'testthat'</li><li>'TH.data'</li><li>'tibble'</li><li>'tidyr'</li><li>'tidyselect'</li><li>'tidystringdist'</li><li>'tidytext'</li><li>'tidyverse'</li><li>'timeDate'</li><li>'tinytex'</li><li>'tokenizers'</li><li>'TSA'</li><li>'tseries'</li><li>'TSP'</li><li>'TTR'</li><li>'usethis'</li><li>'utf8'</li><li>'uuid'</li><li>'vcd'</li><li>'vctrs'</li><li>'VGAM'</li><li>'viridis'</li><li>'viridisLite'</li><li>'visNetwork'</li><li>'waldo'</li><li>'webutils'</li><li>'whisker'</li><li>'withr'</li><li>'writexl'</li><li>'xfun'</li><li>'xlsx'</li><li>'xlsxjars'</li><li>'XML'</li><li>'xml2'</li><li>'xopen'</li><li>'xtable'</li><li>'xts'</li><li>'yaml'</li><li>'zip'</li><li>'zoo'</li><li>'base'</li><li>'boot'</li><li>'class'</li><li>'cluster'</li><li>'codetools'</li><li>'compiler'</li><li>'datasets'</li><li>'foreign'</li><li>'graphics'</li><li>'grDevices'</li><li>'grid'</li><li>'KernSmooth'</li><li>'lattice'</li><li>'MASS'</li><li>'Matrix'</li><li>'methods'</li><li>'mgcv'</li><li>'nlme'</li><li>'nnet'</li><li>'parallel'</li><li>'rpart'</li><li>'spatial'</li><li>'splines'</li><li>'stats'</li><li>'stats4'</li><li>'survival'</li><li>'tcltk'</li><li>'tools'</li><li>'translations'</li><li>'utils'</li></ol>\n"
      ],
      "text/latex": [
       "\\begin{enumerate*}\n",
       "\\item 'arules'\n",
       "\\item 'arulesViz'\n",
       "\\item 'askpass'\n",
       "\\item 'assertthat'\n",
       "\\item 'attempt'\n",
       "\\item 'backports'\n",
       "\\item 'base64enc'\n",
       "\\item 'BBmisc'\n",
       "\\item 'benchmarkme'\n",
       "\\item 'benchmarkmeData'\n",
       "\\item 'bestglm'\n",
       "\\item 'BH'\n",
       "\\item 'bigassertr'\n",
       "\\item 'bigreadr'\n",
       "\\item 'bit'\n",
       "\\item 'bit64'\n",
       "\\item 'bitops'\n",
       "\\item 'blob'\n",
       "\\item 'brew'\n",
       "\\item 'brio'\n",
       "\\item 'broom'\n",
       "\\item 'cachem'\n",
       "\\item 'callr'\n",
       "\\item 'caret'\n",
       "\\item 'caTools'\n",
       "\\item 'cellranger'\n",
       "\\item 'checkmate'\n",
       "\\item 'cli'\n",
       "\\item 'clipr'\n",
       "\\item 'coin'\n",
       "\\item 'colorspace'\n",
       "\\item 'commonmark'\n",
       "\\item 'covr'\n",
       "\\item 'cpp11'\n",
       "\\item 'crayon'\n",
       "\\item 'credentials'\n",
       "\\item 'crosstalk'\n",
       "\\item 'curl'\n",
       "\\item 'data.table'\n",
       "\\item 'DBI'\n",
       "\\item 'dbplyr'\n",
       "\\item 'dendextend'\n",
       "\\item 'desc'\n",
       "\\item 'DescTools'\n",
       "\\item 'devtools'\n",
       "\\item 'diffobj'\n",
       "\\item 'digest'\n",
       "\\item 'disk.frame'\n",
       "\\item 'doParallel'\n",
       "\\item 'dplyr'\n",
       "\\item 'DT'\n",
       "\\item 'dtplyr'\n",
       "\\item 'e1071'\n",
       "\\item 'ellipsis'\n",
       "\\item 'evaluate'\n",
       "\\item 'Exact'\n",
       "\\item 'expm'\n",
       "\\item 'fansi'\n",
       "\\item 'farver'\n",
       "\\item 'fastDummies'\n",
       "\\item 'fastmap'\n",
       "\\item 'fastmatch'\n",
       "\\item 'filelock'\n",
       "\\item 'forcats'\n",
       "\\item 'foreach'\n",
       "\\item 'fs'\n",
       "\\item 'fst'\n",
       "\\item 'furrr'\n",
       "\\item 'future'\n",
       "\\item 'future.apply'\n",
       "\\item 'fuzzyjoin'\n",
       "\\item 'gclus'\n",
       "\\item 'gdalUtils'\n",
       "\\item 'generics'\n",
       "\\item 'geosphere'\n",
       "\\item 'gert'\n",
       "\\item 'getPass'\n",
       "\\item 'ggplot2'\n",
       "\\item 'ggthemes'\n",
       "\\item 'gh'\n",
       "\\item 'gitcreds'\n",
       "\\item 'gld'\n",
       "\\item 'glmnet'\n",
       "\\item 'globals'\n",
       "\\item 'glue'\n",
       "\\item 'gower'\n",
       "\\item 'gplots'\n",
       "\\item 'gridExtra'\n",
       "\\item 'grpreg'\n",
       "\\item 'gtable'\n",
       "\\item 'gtools'\n",
       "\\item 'h2o'\n",
       "\\item 'haven'\n",
       "\\item 'highcharter'\n",
       "\\item 'highr'\n",
       "\\item 'hms'\n",
       "\\item 'htmltools'\n",
       "\\item 'htmlwidgets'\n",
       "\\item 'httpuv'\n",
       "\\item 'httr'\n",
       "\\item 'hunspell'\n",
       "\\item 'igraph'\n",
       "\\item 'ini'\n",
       "\\item 'ipred'\n",
       "\\item 'IRdisplay'\n",
       "\\item 'IRkernel'\n",
       "\\item 'isoband'\n",
       "\\item 'iterators'\n",
       "\\item 'janeaustenr'\n",
       "\\item 'janitor'\n",
       "\\item 'jsonlite'\n",
       "\\item 'kernlab'\n",
       "\\item 'keyring'\n",
       "\\item 'knitr'\n",
       "\\item 'labeling'\n",
       "\\item 'later'\n",
       "\\item 'lava'\n",
       "\\item 'lazyeval'\n",
       "\\item 'leaflet'\n",
       "\\item 'leaflet.providers'\n",
       "\\item 'leaps'\n",
       "\\item 'learnr'\n",
       "\\item 'libcoin'\n",
       "\\item 'lifecycle'\n",
       "\\item 'listenv'\n",
       "\\item 'lmom'\n",
       "\\item 'lmtest'\n",
       "\\item 'locfit'\n",
       "\\item 'lubridate'\n",
       "\\item 'magrittr'\n",
       "\\item 'markdown'\n",
       "\\item 'matrixStats'\n",
       "\\item 'memoise'\n",
       "\\item 'mime'\n",
       "\\item 'mlr'\n",
       "\\item 'ModelMetrics'\n",
       "\\item 'modelr'\n",
       "\\item 'modeltools'\n",
       "\\item 'multcomp'\n",
       "\\item 'munsell'\n",
       "\\item 'mvtnorm'\n",
       "\\item 'NCmisc'\n",
       "\\item 'numDeriv'\n",
       "\\item 'odbc'\n",
       "\\item 'openssl'\n",
       "\\item 'packrat'\n",
       "\\item 'pacman'\n",
       "\\item 'parallelly'\n",
       "\\item 'parallelMap'\n",
       "\\item 'ParamHelpers'\n",
       "\\item 'party'\n",
       "\\item 'pbdZMQ'\n",
       "\\item 'pillar'\n",
       "\\item 'pkgbuild'\n",
       "\\item 'pkgconfig'\n",
       "\\item 'pkgload'\n",
       "\\item 'plogr'\n",
       "\\item 'plotly'\n",
       "\\item 'pls'\n",
       "\\item 'plumber'\n",
       "\\item 'plyr'\n",
       "\\item 'png'\n",
       "\\item 'praise'\n",
       "\\item 'prettyunits'\n",
       "\\item 'pROC'\n",
       "\\item 'processx'\n",
       "\\item 'prodlim'\n",
       "\\item 'proftools'\n",
       "\\item 'progress'\n",
       "\\item 'promises'\n",
       "\\item 'pryr'\n",
       "\\item 'ps'\n",
       "\\item 'purrr'\n",
       "\\item 'qap'\n",
       "\\item 'quadprog'\n",
       "\\item 'quantmod'\n",
       "\\item 'R.methodsS3'\n",
       "\\item 'R.oo'\n",
       "\\item 'R.utils'\n",
       "\\item 'R6'\n",
       "\\item 'randomForest'\n",
       "\\item 'rappdirs'\n",
       "\\item 'raster'\n",
       "\\item 'rcmdcheck'\n",
       "\\item 'RColorBrewer'\n",
       "\\item 'Rcpp'\n",
       "\\item 'RCurl'\n",
       "\\item 'reader'\n",
       "\\item 'readr'\n",
       "\\item 'readxl'\n",
       "\\item 'recipes'\n",
       "\\item 'regclass'\n",
       "\\item 'registry'\n",
       "\\item 'rematch'\n",
       "\\item 'rematch2'\n",
       "\\item 'remotes'\n",
       "\\item 'renv'\n",
       "\\item 'repr'\n",
       "\\item 'reprex'\n",
       "\\item 'reshape2'\n",
       "\\item 'reticulate'\n",
       "\\item 'rex'\n",
       "\\item 'rgdal'\n",
       "\\item 'rJava'\n",
       "\\item 'rjson'\n",
       "\\item 'rlang'\n",
       "\\item 'rlist'\n",
       "\\item 'rmarkdown'\n",
       "\\item 'RMySQL'\n",
       "\\item 'rootSolve'\n",
       "\\item 'roxygen2'\n",
       "\\item 'rpart.plot'\n",
       "\\item 'RPostgres'\n",
       "\\item 'rprojroot'\n",
       "\\item 'rsconnect'\n",
       "\\item 'rstudioapi'\n",
       "\\item 'rversions'\n",
       "\\item 'rvest'\n",
       "\\item 'sandwich'\n",
       "\\item 'scales'\n",
       "\\item 'scatterplot3d'\n",
       "\\item 'selectr'\n",
       "\\item 'seriation'\n",
       "\\item 'sessioninfo'\n",
       "\\item 'shape'\n",
       "\\item 'shiny'\n",
       "\\item 'shinydashboard'\n",
       "\\item 'shinythemes'\n",
       "\\item 'skimr'\n",
       "\\item 'snakecase'\n",
       "\\item 'SnowballC'\n",
       "\\item 'sodium'\n",
       "\\item 'sortable'\n",
       "\\item 'sourcetools'\n",
       "\\item 'sp'\n",
       "\\item 'SQUAREM'\n",
       "\\item 'stringdist'\n",
       "\\item 'stringi'\n",
       "\\item 'stringr'\n",
       "\\item 'strucchange'\n",
       "\\item 'swagger'\n",
       "\\item 'sys'\n",
       "\\item 'tabulizer'\n",
       "\\item 'tabulizerjars'\n",
       "\\item 'testthat'\n",
       "\\item 'TH.data'\n",
       "\\item 'tibble'\n",
       "\\item 'tidyr'\n",
       "\\item 'tidyselect'\n",
       "\\item 'tidystringdist'\n",
       "\\item 'tidytext'\n",
       "\\item 'tidyverse'\n",
       "\\item 'timeDate'\n",
       "\\item 'tinytex'\n",
       "\\item 'tokenizers'\n",
       "\\item 'TSA'\n",
       "\\item 'tseries'\n",
       "\\item 'TSP'\n",
       "\\item 'TTR'\n",
       "\\item 'usethis'\n",
       "\\item 'utf8'\n",
       "\\item 'uuid'\n",
       "\\item 'vcd'\n",
       "\\item 'vctrs'\n",
       "\\item 'VGAM'\n",
       "\\item 'viridis'\n",
       "\\item 'viridisLite'\n",
       "\\item 'visNetwork'\n",
       "\\item 'waldo'\n",
       "\\item 'webutils'\n",
       "\\item 'whisker'\n",
       "\\item 'withr'\n",
       "\\item 'writexl'\n",
       "\\item 'xfun'\n",
       "\\item 'xlsx'\n",
       "\\item 'xlsxjars'\n",
       "\\item 'XML'\n",
       "\\item 'xml2'\n",
       "\\item 'xopen'\n",
       "\\item 'xtable'\n",
       "\\item 'xts'\n",
       "\\item 'yaml'\n",
       "\\item 'zip'\n",
       "\\item 'zoo'\n",
       "\\item 'base'\n",
       "\\item 'boot'\n",
       "\\item 'class'\n",
       "\\item 'cluster'\n",
       "\\item 'codetools'\n",
       "\\item 'compiler'\n",
       "\\item 'datasets'\n",
       "\\item 'foreign'\n",
       "\\item 'graphics'\n",
       "\\item 'grDevices'\n",
       "\\item 'grid'\n",
       "\\item 'KernSmooth'\n",
       "\\item 'lattice'\n",
       "\\item 'MASS'\n",
       "\\item 'Matrix'\n",
       "\\item 'methods'\n",
       "\\item 'mgcv'\n",
       "\\item 'nlme'\n",
       "\\item 'nnet'\n",
       "\\item 'parallel'\n",
       "\\item 'rpart'\n",
       "\\item 'spatial'\n",
       "\\item 'splines'\n",
       "\\item 'stats'\n",
       "\\item 'stats4'\n",
       "\\item 'survival'\n",
       "\\item 'tcltk'\n",
       "\\item 'tools'\n",
       "\\item 'translations'\n",
       "\\item 'utils'\n",
       "\\end{enumerate*}\n"
      ],
      "text/markdown": [
       "1. 'arules'\n",
       "2. 'arulesViz'\n",
       "3. 'askpass'\n",
       "4. 'assertthat'\n",
       "5. 'attempt'\n",
       "6. 'backports'\n",
       "7. 'base64enc'\n",
       "8. 'BBmisc'\n",
       "9. 'benchmarkme'\n",
       "10. 'benchmarkmeData'\n",
       "11. 'bestglm'\n",
       "12. 'BH'\n",
       "13. 'bigassertr'\n",
       "14. 'bigreadr'\n",
       "15. 'bit'\n",
       "16. 'bit64'\n",
       "17. 'bitops'\n",
       "18. 'blob'\n",
       "19. 'brew'\n",
       "20. 'brio'\n",
       "21. 'broom'\n",
       "22. 'cachem'\n",
       "23. 'callr'\n",
       "24. 'caret'\n",
       "25. 'caTools'\n",
       "26. 'cellranger'\n",
       "27. 'checkmate'\n",
       "28. 'cli'\n",
       "29. 'clipr'\n",
       "30. 'coin'\n",
       "31. 'colorspace'\n",
       "32. 'commonmark'\n",
       "33. 'covr'\n",
       "34. 'cpp11'\n",
       "35. 'crayon'\n",
       "36. 'credentials'\n",
       "37. 'crosstalk'\n",
       "38. 'curl'\n",
       "39. 'data.table'\n",
       "40. 'DBI'\n",
       "41. 'dbplyr'\n",
       "42. 'dendextend'\n",
       "43. 'desc'\n",
       "44. 'DescTools'\n",
       "45. 'devtools'\n",
       "46. 'diffobj'\n",
       "47. 'digest'\n",
       "48. 'disk.frame'\n",
       "49. 'doParallel'\n",
       "50. 'dplyr'\n",
       "51. 'DT'\n",
       "52. 'dtplyr'\n",
       "53. 'e1071'\n",
       "54. 'ellipsis'\n",
       "55. 'evaluate'\n",
       "56. 'Exact'\n",
       "57. 'expm'\n",
       "58. 'fansi'\n",
       "59. 'farver'\n",
       "60. 'fastDummies'\n",
       "61. 'fastmap'\n",
       "62. 'fastmatch'\n",
       "63. 'filelock'\n",
       "64. 'forcats'\n",
       "65. 'foreach'\n",
       "66. 'fs'\n",
       "67. 'fst'\n",
       "68. 'furrr'\n",
       "69. 'future'\n",
       "70. 'future.apply'\n",
       "71. 'fuzzyjoin'\n",
       "72. 'gclus'\n",
       "73. 'gdalUtils'\n",
       "74. 'generics'\n",
       "75. 'geosphere'\n",
       "76. 'gert'\n",
       "77. 'getPass'\n",
       "78. 'ggplot2'\n",
       "79. 'ggthemes'\n",
       "80. 'gh'\n",
       "81. 'gitcreds'\n",
       "82. 'gld'\n",
       "83. 'glmnet'\n",
       "84. 'globals'\n",
       "85. 'glue'\n",
       "86. 'gower'\n",
       "87. 'gplots'\n",
       "88. 'gridExtra'\n",
       "89. 'grpreg'\n",
       "90. 'gtable'\n",
       "91. 'gtools'\n",
       "92. 'h2o'\n",
       "93. 'haven'\n",
       "94. 'highcharter'\n",
       "95. 'highr'\n",
       "96. 'hms'\n",
       "97. 'htmltools'\n",
       "98. 'htmlwidgets'\n",
       "99. 'httpuv'\n",
       "100. 'httr'\n",
       "101. 'hunspell'\n",
       "102. 'igraph'\n",
       "103. 'ini'\n",
       "104. 'ipred'\n",
       "105. 'IRdisplay'\n",
       "106. 'IRkernel'\n",
       "107. 'isoband'\n",
       "108. 'iterators'\n",
       "109. 'janeaustenr'\n",
       "110. 'janitor'\n",
       "111. 'jsonlite'\n",
       "112. 'kernlab'\n",
       "113. 'keyring'\n",
       "114. 'knitr'\n",
       "115. 'labeling'\n",
       "116. 'later'\n",
       "117. 'lava'\n",
       "118. 'lazyeval'\n",
       "119. 'leaflet'\n",
       "120. 'leaflet.providers'\n",
       "121. 'leaps'\n",
       "122. 'learnr'\n",
       "123. 'libcoin'\n",
       "124. 'lifecycle'\n",
       "125. 'listenv'\n",
       "126. 'lmom'\n",
       "127. 'lmtest'\n",
       "128. 'locfit'\n",
       "129. 'lubridate'\n",
       "130. 'magrittr'\n",
       "131. 'markdown'\n",
       "132. 'matrixStats'\n",
       "133. 'memoise'\n",
       "134. 'mime'\n",
       "135. 'mlr'\n",
       "136. 'ModelMetrics'\n",
       "137. 'modelr'\n",
       "138. 'modeltools'\n",
       "139. 'multcomp'\n",
       "140. 'munsell'\n",
       "141. 'mvtnorm'\n",
       "142. 'NCmisc'\n",
       "143. 'numDeriv'\n",
       "144. 'odbc'\n",
       "145. 'openssl'\n",
       "146. 'packrat'\n",
       "147. 'pacman'\n",
       "148. 'parallelly'\n",
       "149. 'parallelMap'\n",
       "150. 'ParamHelpers'\n",
       "151. 'party'\n",
       "152. 'pbdZMQ'\n",
       "153. 'pillar'\n",
       "154. 'pkgbuild'\n",
       "155. 'pkgconfig'\n",
       "156. 'pkgload'\n",
       "157. 'plogr'\n",
       "158. 'plotly'\n",
       "159. 'pls'\n",
       "160. 'plumber'\n",
       "161. 'plyr'\n",
       "162. 'png'\n",
       "163. 'praise'\n",
       "164. 'prettyunits'\n",
       "165. 'pROC'\n",
       "166. 'processx'\n",
       "167. 'prodlim'\n",
       "168. 'proftools'\n",
       "169. 'progress'\n",
       "170. 'promises'\n",
       "171. 'pryr'\n",
       "172. 'ps'\n",
       "173. 'purrr'\n",
       "174. 'qap'\n",
       "175. 'quadprog'\n",
       "176. 'quantmod'\n",
       "177. 'R.methodsS3'\n",
       "178. 'R.oo'\n",
       "179. 'R.utils'\n",
       "180. 'R6'\n",
       "181. 'randomForest'\n",
       "182. 'rappdirs'\n",
       "183. 'raster'\n",
       "184. 'rcmdcheck'\n",
       "185. 'RColorBrewer'\n",
       "186. 'Rcpp'\n",
       "187. 'RCurl'\n",
       "188. 'reader'\n",
       "189. 'readr'\n",
       "190. 'readxl'\n",
       "191. 'recipes'\n",
       "192. 'regclass'\n",
       "193. 'registry'\n",
       "194. 'rematch'\n",
       "195. 'rematch2'\n",
       "196. 'remotes'\n",
       "197. 'renv'\n",
       "198. 'repr'\n",
       "199. 'reprex'\n",
       "200. 'reshape2'\n",
       "201. 'reticulate'\n",
       "202. 'rex'\n",
       "203. 'rgdal'\n",
       "204. 'rJava'\n",
       "205. 'rjson'\n",
       "206. 'rlang'\n",
       "207. 'rlist'\n",
       "208. 'rmarkdown'\n",
       "209. 'RMySQL'\n",
       "210. 'rootSolve'\n",
       "211. 'roxygen2'\n",
       "212. 'rpart.plot'\n",
       "213. 'RPostgres'\n",
       "214. 'rprojroot'\n",
       "215. 'rsconnect'\n",
       "216. 'rstudioapi'\n",
       "217. 'rversions'\n",
       "218. 'rvest'\n",
       "219. 'sandwich'\n",
       "220. 'scales'\n",
       "221. 'scatterplot3d'\n",
       "222. 'selectr'\n",
       "223. 'seriation'\n",
       "224. 'sessioninfo'\n",
       "225. 'shape'\n",
       "226. 'shiny'\n",
       "227. 'shinydashboard'\n",
       "228. 'shinythemes'\n",
       "229. 'skimr'\n",
       "230. 'snakecase'\n",
       "231. 'SnowballC'\n",
       "232. 'sodium'\n",
       "233. 'sortable'\n",
       "234. 'sourcetools'\n",
       "235. 'sp'\n",
       "236. 'SQUAREM'\n",
       "237. 'stringdist'\n",
       "238. 'stringi'\n",
       "239. 'stringr'\n",
       "240. 'strucchange'\n",
       "241. 'swagger'\n",
       "242. 'sys'\n",
       "243. 'tabulizer'\n",
       "244. 'tabulizerjars'\n",
       "245. 'testthat'\n",
       "246. 'TH.data'\n",
       "247. 'tibble'\n",
       "248. 'tidyr'\n",
       "249. 'tidyselect'\n",
       "250. 'tidystringdist'\n",
       "251. 'tidytext'\n",
       "252. 'tidyverse'\n",
       "253. 'timeDate'\n",
       "254. 'tinytex'\n",
       "255. 'tokenizers'\n",
       "256. 'TSA'\n",
       "257. 'tseries'\n",
       "258. 'TSP'\n",
       "259. 'TTR'\n",
       "260. 'usethis'\n",
       "261. 'utf8'\n",
       "262. 'uuid'\n",
       "263. 'vcd'\n",
       "264. 'vctrs'\n",
       "265. 'VGAM'\n",
       "266. 'viridis'\n",
       "267. 'viridisLite'\n",
       "268. 'visNetwork'\n",
       "269. 'waldo'\n",
       "270. 'webutils'\n",
       "271. 'whisker'\n",
       "272. 'withr'\n",
       "273. 'writexl'\n",
       "274. 'xfun'\n",
       "275. 'xlsx'\n",
       "276. 'xlsxjars'\n",
       "277. 'XML'\n",
       "278. 'xml2'\n",
       "279. 'xopen'\n",
       "280. 'xtable'\n",
       "281. 'xts'\n",
       "282. 'yaml'\n",
       "283. 'zip'\n",
       "284. 'zoo'\n",
       "285. 'base'\n",
       "286. 'boot'\n",
       "287. 'class'\n",
       "288. 'cluster'\n",
       "289. 'codetools'\n",
       "290. 'compiler'\n",
       "291. 'datasets'\n",
       "292. 'foreign'\n",
       "293. 'graphics'\n",
       "294. 'grDevices'\n",
       "295. 'grid'\n",
       "296. 'KernSmooth'\n",
       "297. 'lattice'\n",
       "298. 'MASS'\n",
       "299. 'Matrix'\n",
       "300. 'methods'\n",
       "301. 'mgcv'\n",
       "302. 'nlme'\n",
       "303. 'nnet'\n",
       "304. 'parallel'\n",
       "305. 'rpart'\n",
       "306. 'spatial'\n",
       "307. 'splines'\n",
       "308. 'stats'\n",
       "309. 'stats4'\n",
       "310. 'survival'\n",
       "311. 'tcltk'\n",
       "312. 'tools'\n",
       "313. 'translations'\n",
       "314. 'utils'\n",
       "\n",
       "\n"
      ],
      "text/plain": [
       "  [1] \"arules\"            \"arulesViz\"         \"askpass\"          \n",
       "  [4] \"assertthat\"        \"attempt\"           \"backports\"        \n",
       "  [7] \"base64enc\"         \"BBmisc\"            \"benchmarkme\"      \n",
       " [10] \"benchmarkmeData\"   \"bestglm\"           \"BH\"               \n",
       " [13] \"bigassertr\"        \"bigreadr\"          \"bit\"              \n",
       " [16] \"bit64\"             \"bitops\"            \"blob\"             \n",
       " [19] \"brew\"              \"brio\"              \"broom\"            \n",
       " [22] \"cachem\"            \"callr\"             \"caret\"            \n",
       " [25] \"caTools\"           \"cellranger\"        \"checkmate\"        \n",
       " [28] \"cli\"               \"clipr\"             \"coin\"             \n",
       " [31] \"colorspace\"        \"commonmark\"        \"covr\"             \n",
       " [34] \"cpp11\"             \"crayon\"            \"credentials\"      \n",
       " [37] \"crosstalk\"         \"curl\"              \"data.table\"       \n",
       " [40] \"DBI\"               \"dbplyr\"            \"dendextend\"       \n",
       " [43] \"desc\"              \"DescTools\"         \"devtools\"         \n",
       " [46] \"diffobj\"           \"digest\"            \"disk.frame\"       \n",
       " [49] \"doParallel\"        \"dplyr\"             \"DT\"               \n",
       " [52] \"dtplyr\"            \"e1071\"             \"ellipsis\"         \n",
       " [55] \"evaluate\"          \"Exact\"             \"expm\"             \n",
       " [58] \"fansi\"             \"farver\"            \"fastDummies\"      \n",
       " [61] \"fastmap\"           \"fastmatch\"         \"filelock\"         \n",
       " [64] \"forcats\"           \"foreach\"           \"fs\"               \n",
       " [67] \"fst\"               \"furrr\"             \"future\"           \n",
       " [70] \"future.apply\"      \"fuzzyjoin\"         \"gclus\"            \n",
       " [73] \"gdalUtils\"         \"generics\"          \"geosphere\"        \n",
       " [76] \"gert\"              \"getPass\"           \"ggplot2\"          \n",
       " [79] \"ggthemes\"          \"gh\"                \"gitcreds\"         \n",
       " [82] \"gld\"               \"glmnet\"            \"globals\"          \n",
       " [85] \"glue\"              \"gower\"             \"gplots\"           \n",
       " [88] \"gridExtra\"         \"grpreg\"            \"gtable\"           \n",
       " [91] \"gtools\"            \"h2o\"               \"haven\"            \n",
       " [94] \"highcharter\"       \"highr\"             \"hms\"              \n",
       " [97] \"htmltools\"         \"htmlwidgets\"       \"httpuv\"           \n",
       "[100] \"httr\"              \"hunspell\"          \"igraph\"           \n",
       "[103] \"ini\"               \"ipred\"             \"IRdisplay\"        \n",
       "[106] \"IRkernel\"          \"isoband\"           \"iterators\"        \n",
       "[109] \"janeaustenr\"       \"janitor\"           \"jsonlite\"         \n",
       "[112] \"kernlab\"           \"keyring\"           \"knitr\"            \n",
       "[115] \"labeling\"          \"later\"             \"lava\"             \n",
       "[118] \"lazyeval\"          \"leaflet\"           \"leaflet.providers\"\n",
       "[121] \"leaps\"             \"learnr\"            \"libcoin\"          \n",
       "[124] \"lifecycle\"         \"listenv\"           \"lmom\"             \n",
       "[127] \"lmtest\"            \"locfit\"            \"lubridate\"        \n",
       "[130] \"magrittr\"          \"markdown\"          \"matrixStats\"      \n",
       "[133] \"memoise\"           \"mime\"              \"mlr\"              \n",
       "[136] \"ModelMetrics\"      \"modelr\"            \"modeltools\"       \n",
       "[139] \"multcomp\"          \"munsell\"           \"mvtnorm\"          \n",
       "[142] \"NCmisc\"            \"numDeriv\"          \"odbc\"             \n",
       "[145] \"openssl\"           \"packrat\"           \"pacman\"           \n",
       "[148] \"parallelly\"        \"parallelMap\"       \"ParamHelpers\"     \n",
       "[151] \"party\"             \"pbdZMQ\"            \"pillar\"           \n",
       "[154] \"pkgbuild\"          \"pkgconfig\"         \"pkgload\"          \n",
       "[157] \"plogr\"             \"plotly\"            \"pls\"              \n",
       "[160] \"plumber\"           \"plyr\"              \"png\"              \n",
       "[163] \"praise\"            \"prettyunits\"       \"pROC\"             \n",
       "[166] \"processx\"          \"prodlim\"           \"proftools\"        \n",
       "[169] \"progress\"          \"promises\"          \"pryr\"             \n",
       "[172] \"ps\"                \"purrr\"             \"qap\"              \n",
       "[175] \"quadprog\"          \"quantmod\"          \"R.methodsS3\"      \n",
       "[178] \"R.oo\"              \"R.utils\"           \"R6\"               \n",
       "[181] \"randomForest\"      \"rappdirs\"          \"raster\"           \n",
       "[184] \"rcmdcheck\"         \"RColorBrewer\"      \"Rcpp\"             \n",
       "[187] \"RCurl\"             \"reader\"            \"readr\"            \n",
       "[190] \"readxl\"            \"recipes\"           \"regclass\"         \n",
       "[193] \"registry\"          \"rematch\"           \"rematch2\"         \n",
       "[196] \"remotes\"           \"renv\"              \"repr\"             \n",
       "[199] \"reprex\"            \"reshape2\"          \"reticulate\"       \n",
       "[202] \"rex\"               \"rgdal\"             \"rJava\"            \n",
       "[205] \"rjson\"             \"rlang\"             \"rlist\"            \n",
       "[208] \"rmarkdown\"         \"RMySQL\"            \"rootSolve\"        \n",
       "[211] \"roxygen2\"          \"rpart.plot\"        \"RPostgres\"        \n",
       "[214] \"rprojroot\"         \"rsconnect\"         \"rstudioapi\"       \n",
       "[217] \"rversions\"         \"rvest\"             \"sandwich\"         \n",
       "[220] \"scales\"            \"scatterplot3d\"     \"selectr\"          \n",
       "[223] \"seriation\"         \"sessioninfo\"       \"shape\"            \n",
       "[226] \"shiny\"             \"shinydashboard\"    \"shinythemes\"      \n",
       "[229] \"skimr\"             \"snakecase\"         \"SnowballC\"        \n",
       "[232] \"sodium\"            \"sortable\"          \"sourcetools\"      \n",
       "[235] \"sp\"                \"SQUAREM\"           \"stringdist\"       \n",
       "[238] \"stringi\"           \"stringr\"           \"strucchange\"      \n",
       "[241] \"swagger\"           \"sys\"               \"tabulizer\"        \n",
       "[244] \"tabulizerjars\"     \"testthat\"          \"TH.data\"          \n",
       "[247] \"tibble\"            \"tidyr\"             \"tidyselect\"       \n",
       "[250] \"tidystringdist\"    \"tidytext\"          \"tidyverse\"        \n",
       "[253] \"timeDate\"          \"tinytex\"           \"tokenizers\"       \n",
       "[256] \"TSA\"               \"tseries\"           \"TSP\"              \n",
       "[259] \"TTR\"               \"usethis\"           \"utf8\"             \n",
       "[262] \"uuid\"              \"vcd\"               \"vctrs\"            \n",
       "[265] \"VGAM\"              \"viridis\"           \"viridisLite\"      \n",
       "[268] \"visNetwork\"        \"waldo\"             \"webutils\"         \n",
       "[271] \"whisker\"           \"withr\"             \"writexl\"          \n",
       "[274] \"xfun\"              \"xlsx\"              \"xlsxjars\"         \n",
       "[277] \"XML\"               \"xml2\"              \"xopen\"            \n",
       "[280] \"xtable\"            \"xts\"               \"yaml\"             \n",
       "[283] \"zip\"               \"zoo\"               \"base\"             \n",
       "[286] \"boot\"              \"class\"             \"cluster\"          \n",
       "[289] \"codetools\"         \"compiler\"          \"datasets\"         \n",
       "[292] \"foreign\"           \"graphics\"          \"grDevices\"        \n",
       "[295] \"grid\"              \"KernSmooth\"        \"lattice\"          \n",
       "[298] \"MASS\"              \"Matrix\"            \"methods\"          \n",
       "[301] \"mgcv\"              \"nlme\"              \"nnet\"             \n",
       "[304] \"parallel\"          \"rpart\"             \"spatial\"          \n",
       "[307] \"splines\"           \"stats\"             \"stats4\"           \n",
       "[310] \"survival\"          \"tcltk\"             \"tools\"            \n",
       "[313] \"translations\"      \"utils\"            "
      ]
     },
     "metadata": {},
     "output_type": "display_data"
    }
   ],
   "source": [
    "#as.vector(installed.packages()[,\"Package\"])"
   ]
  },
  {
   "cell_type": "code",
   "execution_count": 2,
   "id": "plastic-state",
   "metadata": {},
   "outputs": [
    {
     "data": {
      "text/html": [
       "92"
      ],
      "text/latex": [
       "92"
      ],
      "text/markdown": [
       "92"
      ],
      "text/plain": [
       "[1] 92"
      ]
     },
     "metadata": {},
     "output_type": "display_data"
    }
   ],
   "source": [
    "#which(grepl(pattern = \"^h2o*\", x = as.vector(installed.packages()[,\"Package\"]), ignore.case = TRUE))"
   ]
  },
  {
   "cell_type": "code",
   "execution_count": 3,
   "id": "editorial-guidance",
   "metadata": {},
   "outputs": [
    {
     "name": "stderr",
     "output_type": "stream",
     "text": [
      "Warning message:\n",
      "\"package 'tidyverse' was built under R version 4.0.3\"\n",
      "-- \u001b[1mAttaching packages\u001b[22m ------------------------------------------------------------------------------- tidyverse 1.3.0 --\n",
      "\n",
      "\u001b[32mv\u001b[39m \u001b[34mggplot2\u001b[39m 3.3.3     \u001b[32mv\u001b[39m \u001b[34mpurrr  \u001b[39m 0.3.4\n",
      "\u001b[32mv\u001b[39m \u001b[34mtibble \u001b[39m 3.0.5     \u001b[32mv\u001b[39m \u001b[34mdplyr  \u001b[39m 1.0.3\n",
      "\u001b[32mv\u001b[39m \u001b[34mtidyr  \u001b[39m 1.1.2     \u001b[32mv\u001b[39m \u001b[34mstringr\u001b[39m 1.4.0\n",
      "\u001b[32mv\u001b[39m \u001b[34mreadr  \u001b[39m 1.4.0     \u001b[32mv\u001b[39m \u001b[34mforcats\u001b[39m 0.5.0\n",
      "\n",
      "Warning message:\n",
      "\"package 'ggplot2' was built under R version 4.0.3\"\n",
      "Warning message:\n",
      "\"package 'tibble' was built under R version 4.0.3\"\n",
      "Warning message:\n",
      "\"package 'tidyr' was built under R version 4.0.3\"\n",
      "Warning message:\n",
      "\"package 'readr' was built under R version 4.0.3\"\n",
      "Warning message:\n",
      "\"package 'purrr' was built under R version 4.0.3\"\n",
      "Warning message:\n",
      "\"package 'dplyr' was built under R version 4.0.3\"\n",
      "Warning message:\n",
      "\"package 'stringr' was built under R version 4.0.3\"\n",
      "Warning message:\n",
      "\"package 'forcats' was built under R version 4.0.3\"\n",
      "-- \u001b[1mConflicts\u001b[22m ---------------------------------------------------------------------------------- tidyverse_conflicts() --\n",
      "\u001b[31mx\u001b[39m \u001b[34mdplyr\u001b[39m::\u001b[32mfilter()\u001b[39m masks \u001b[34mstats\u001b[39m::filter()\n",
      "\u001b[31mx\u001b[39m \u001b[34mdplyr\u001b[39m::\u001b[32mlag()\u001b[39m    masks \u001b[34mstats\u001b[39m::lag()\n",
      "\n"
     ]
    }
   ],
   "source": [
    "library(tidyverse)"
   ]
  },
  {
   "cell_type": "markdown",
   "id": "ultimate-characteristic",
   "metadata": {},
   "source": [
    "# Data importation"
   ]
  },
  {
   "cell_type": "code",
   "execution_count": 4,
   "id": "trying-pierre",
   "metadata": {},
   "outputs": [],
   "source": [
    "data = read_rds(file = \"./df2_all_ft.rds\")"
   ]
  },
  {
   "cell_type": "code",
   "execution_count": 5,
   "id": "expired-toner",
   "metadata": {},
   "outputs": [
    {
     "data": {
      "text/html": [
       "<table class=\"dataframe\">\n",
       "<caption>A data.frame: 6 × 117</caption>\n",
       "<thead>\n",
       "\t<tr><th></th><th scope=col>e1demoend1q18_Yes</th><th scope=col>e1demoend1q22_Yes</th><th scope=col>e1demoend1q23_Yes</th><th scope=col>e1end11e2hseq28_Yes</th><th scope=col>e1end11e2hseq33_No</th><th scope=col>e1end11e2sxq101_Yes</th><th scope=col>e1end11e2rand4_q130_A.50..chance.to.gain.KSH.1.250.and.a.50..chance.to.gain.nothing</th><th scope=col>e1end11e2rand4_q131_A.sure.loss.of.KSH.5.000</th><th scope=col>Population_AGYWs</th><th scope=col>Population_Female.Sex...Workers..FSWs.</th><th scope=col>...</th><th scope=col>e1end11e2Disc_q153_Every.month</th><th scope=col>e1end11e2Disc_q153_Every.3.months</th><th scope=col>e1end11e2Disc_q153_Every.2.weeks</th><th scope=col>e1end11e2Disc_q156_Regular.Hours..Saturdays.</th><th scope=col>e1end11e2Disc_q156_Regular.Hours..Morning.only..Monday.to.Friday.</th><th scope=col>e1end11e2Disc_q156_Regular.Hours..Afternoon.</th><th scope=col>e1end11e2Disc_q158_1hr</th><th scope=col>e1end11e2Disc_q158_Less.than.1.hr</th><th scope=col>e1end11e2Disc_q158_2hrs.and.above</th><th scope=col>Continuation_rates</th></tr>\n",
       "\t<tr><th></th><th scope=col>&lt;int&gt;</th><th scope=col>&lt;int&gt;</th><th scope=col>&lt;int&gt;</th><th scope=col>&lt;int&gt;</th><th scope=col>&lt;int&gt;</th><th scope=col>&lt;int&gt;</th><th scope=col>&lt;int&gt;</th><th scope=col>&lt;int&gt;</th><th scope=col>&lt;int&gt;</th><th scope=col>&lt;int&gt;</th><th scope=col>...</th><th scope=col>&lt;int&gt;</th><th scope=col>&lt;int&gt;</th><th scope=col>&lt;int&gt;</th><th scope=col>&lt;int&gt;</th><th scope=col>&lt;int&gt;</th><th scope=col>&lt;int&gt;</th><th scope=col>&lt;int&gt;</th><th scope=col>&lt;int&gt;</th><th scope=col>&lt;int&gt;</th><th scope=col>&lt;fct&gt;</th></tr>\n",
       "</thead>\n",
       "<tbody>\n",
       "\t<tr><th scope=row>1</th><td>0</td><td>0</td><td>0</td><td>0</td><td>0</td><td>0</td><td>0</td><td>0</td><td>1</td><td>0</td><td>...</td><td>1</td><td>0</td><td>0</td><td>1</td><td>0</td><td>0</td><td>1</td><td>0</td><td>0</td><td>Low_Continuation </td></tr>\n",
       "\t<tr><th scope=row>2</th><td>1</td><td>0</td><td>1</td><td>1</td><td>0</td><td>0</td><td>0</td><td>1</td><td>0</td><td>1</td><td>...</td><td>0</td><td>1</td><td>0</td><td>0</td><td>1</td><td>0</td><td>0</td><td>1</td><td>0</td><td>Low_Continuation </td></tr>\n",
       "\t<tr><th scope=row>3</th><td>0</td><td>0</td><td>1</td><td>1</td><td>0</td><td>0</td><td>0</td><td>0</td><td>0</td><td>1</td><td>...</td><td>1</td><td>0</td><td>0</td><td>0</td><td>1</td><td>0</td><td>0</td><td>0</td><td>1</td><td>High_Continuation</td></tr>\n",
       "\t<tr><th scope=row>4</th><td>1</td><td>0</td><td>0</td><td>1</td><td>0</td><td>0</td><td>0</td><td>0</td><td>0</td><td>1</td><td>...</td><td>1</td><td>0</td><td>0</td><td>0</td><td>1</td><td>0</td><td>0</td><td>1</td><td>0</td><td>Low_Continuation </td></tr>\n",
       "\t<tr><th scope=row>5</th><td>1</td><td>0</td><td>0</td><td>1</td><td>0</td><td>0</td><td>0</td><td>0</td><td>0</td><td>1</td><td>...</td><td>1</td><td>0</td><td>0</td><td>1</td><td>0</td><td>0</td><td>0</td><td>1</td><td>0</td><td>Low_Continuation </td></tr>\n",
       "\t<tr><th scope=row>6</th><td>0</td><td>0</td><td>0</td><td>1</td><td>0</td><td>1</td><td>0</td><td>0</td><td>0</td><td>1</td><td>...</td><td>1</td><td>0</td><td>0</td><td>1</td><td>0</td><td>0</td><td>1</td><td>0</td><td>0</td><td>High_Continuation</td></tr>\n",
       "</tbody>\n",
       "</table>\n"
      ],
      "text/latex": [
       "A data.frame: 6 × 117\n",
       "\\begin{tabular}{r|lllllllllllllllllllll}\n",
       "  & e1demoend1q18\\_Yes & e1demoend1q22\\_Yes & e1demoend1q23\\_Yes & e1end11e2hseq28\\_Yes & e1end11e2hseq33\\_No & e1end11e2sxq101\\_Yes & e1end11e2rand4\\_q130\\_A.50..chance.to.gain.KSH.1.250.and.a.50..chance.to.gain.nothing & e1end11e2rand4\\_q131\\_A.sure.loss.of.KSH.5.000 & Population\\_AGYWs & Population\\_Female.Sex...Workers..FSWs. & ... & e1end11e2Disc\\_q153\\_Every.month & e1end11e2Disc\\_q153\\_Every.3.months & e1end11e2Disc\\_q153\\_Every.2.weeks & e1end11e2Disc\\_q156\\_Regular.Hours..Saturdays. & e1end11e2Disc\\_q156\\_Regular.Hours..Morning.only..Monday.to.Friday. & e1end11e2Disc\\_q156\\_Regular.Hours..Afternoon. & e1end11e2Disc\\_q158\\_1hr & e1end11e2Disc\\_q158\\_Less.than.1.hr & e1end11e2Disc\\_q158\\_2hrs.and.above & Continuation\\_rates\\\\\n",
       "  & <int> & <int> & <int> & <int> & <int> & <int> & <int> & <int> & <int> & <int> & ... & <int> & <int> & <int> & <int> & <int> & <int> & <int> & <int> & <int> & <fct>\\\\\n",
       "\\hline\n",
       "\t1 & 0 & 0 & 0 & 0 & 0 & 0 & 0 & 0 & 1 & 0 & ... & 1 & 0 & 0 & 1 & 0 & 0 & 1 & 0 & 0 & Low\\_Continuation \\\\\n",
       "\t2 & 1 & 0 & 1 & 1 & 0 & 0 & 0 & 1 & 0 & 1 & ... & 0 & 1 & 0 & 0 & 1 & 0 & 0 & 1 & 0 & Low\\_Continuation \\\\\n",
       "\t3 & 0 & 0 & 1 & 1 & 0 & 0 & 0 & 0 & 0 & 1 & ... & 1 & 0 & 0 & 0 & 1 & 0 & 0 & 0 & 1 & High\\_Continuation\\\\\n",
       "\t4 & 1 & 0 & 0 & 1 & 0 & 0 & 0 & 0 & 0 & 1 & ... & 1 & 0 & 0 & 0 & 1 & 0 & 0 & 1 & 0 & Low\\_Continuation \\\\\n",
       "\t5 & 1 & 0 & 0 & 1 & 0 & 0 & 0 & 0 & 0 & 1 & ... & 1 & 0 & 0 & 1 & 0 & 0 & 0 & 1 & 0 & Low\\_Continuation \\\\\n",
       "\t6 & 0 & 0 & 0 & 1 & 0 & 1 & 0 & 0 & 0 & 1 & ... & 1 & 0 & 0 & 1 & 0 & 0 & 1 & 0 & 0 & High\\_Continuation\\\\\n",
       "\\end{tabular}\n"
      ],
      "text/markdown": [
       "\n",
       "A data.frame: 6 × 117\n",
       "\n",
       "| <!--/--> | e1demoend1q18_Yes &lt;int&gt; | e1demoend1q22_Yes &lt;int&gt; | e1demoend1q23_Yes &lt;int&gt; | e1end11e2hseq28_Yes &lt;int&gt; | e1end11e2hseq33_No &lt;int&gt; | e1end11e2sxq101_Yes &lt;int&gt; | e1end11e2rand4_q130_A.50..chance.to.gain.KSH.1.250.and.a.50..chance.to.gain.nothing &lt;int&gt; | e1end11e2rand4_q131_A.sure.loss.of.KSH.5.000 &lt;int&gt; | Population_AGYWs &lt;int&gt; | Population_Female.Sex...Workers..FSWs. &lt;int&gt; | ... ... | e1end11e2Disc_q153_Every.month &lt;int&gt; | e1end11e2Disc_q153_Every.3.months &lt;int&gt; | e1end11e2Disc_q153_Every.2.weeks &lt;int&gt; | e1end11e2Disc_q156_Regular.Hours..Saturdays. &lt;int&gt; | e1end11e2Disc_q156_Regular.Hours..Morning.only..Monday.to.Friday. &lt;int&gt; | e1end11e2Disc_q156_Regular.Hours..Afternoon. &lt;int&gt; | e1end11e2Disc_q158_1hr &lt;int&gt; | e1end11e2Disc_q158_Less.than.1.hr &lt;int&gt; | e1end11e2Disc_q158_2hrs.and.above &lt;int&gt; | Continuation_rates &lt;fct&gt; |\n",
       "|---|---|---|---|---|---|---|---|---|---|---|---|---|---|---|---|---|---|---|---|---|---|\n",
       "| 1 | 0 | 0 | 0 | 0 | 0 | 0 | 0 | 0 | 1 | 0 | ... | 1 | 0 | 0 | 1 | 0 | 0 | 1 | 0 | 0 | Low_Continuation  |\n",
       "| 2 | 1 | 0 | 1 | 1 | 0 | 0 | 0 | 1 | 0 | 1 | ... | 0 | 1 | 0 | 0 | 1 | 0 | 0 | 1 | 0 | Low_Continuation  |\n",
       "| 3 | 0 | 0 | 1 | 1 | 0 | 0 | 0 | 0 | 0 | 1 | ... | 1 | 0 | 0 | 0 | 1 | 0 | 0 | 0 | 1 | High_Continuation |\n",
       "| 4 | 1 | 0 | 0 | 1 | 0 | 0 | 0 | 0 | 0 | 1 | ... | 1 | 0 | 0 | 0 | 1 | 0 | 0 | 1 | 0 | Low_Continuation  |\n",
       "| 5 | 1 | 0 | 0 | 1 | 0 | 0 | 0 | 0 | 0 | 1 | ... | 1 | 0 | 0 | 1 | 0 | 0 | 0 | 1 | 0 | Low_Continuation  |\n",
       "| 6 | 0 | 0 | 0 | 1 | 0 | 1 | 0 | 0 | 0 | 1 | ... | 1 | 0 | 0 | 1 | 0 | 0 | 1 | 0 | 0 | High_Continuation |\n",
       "\n"
      ],
      "text/plain": [
       "  e1demoend1q18_Yes e1demoend1q22_Yes e1demoend1q23_Yes e1end11e2hseq28_Yes\n",
       "1 0                 0                 0                 0                  \n",
       "2 1                 0                 1                 1                  \n",
       "3 0                 0                 1                 1                  \n",
       "4 1                 0                 0                 1                  \n",
       "5 1                 0                 0                 1                  \n",
       "6 0                 0                 0                 1                  \n",
       "  e1end11e2hseq33_No e1end11e2sxq101_Yes\n",
       "1 0                  0                  \n",
       "2 0                  0                  \n",
       "3 0                  0                  \n",
       "4 0                  0                  \n",
       "5 0                  0                  \n",
       "6 0                  1                  \n",
       "  e1end11e2rand4_q130_A.50..chance.to.gain.KSH.1.250.and.a.50..chance.to.gain.nothing\n",
       "1 0                                                                                  \n",
       "2 0                                                                                  \n",
       "3 0                                                                                  \n",
       "4 0                                                                                  \n",
       "5 0                                                                                  \n",
       "6 0                                                                                  \n",
       "  e1end11e2rand4_q131_A.sure.loss.of.KSH.5.000 Population_AGYWs\n",
       "1 0                                            1               \n",
       "2 1                                            0               \n",
       "3 0                                            0               \n",
       "4 0                                            0               \n",
       "5 0                                            0               \n",
       "6 0                                            0               \n",
       "  Population_Female.Sex...Workers..FSWs. ... e1end11e2Disc_q153_Every.month\n",
       "1 0                                      ... 1                             \n",
       "2 1                                      ... 0                             \n",
       "3 1                                      ... 1                             \n",
       "4 1                                      ... 1                             \n",
       "5 1                                      ... 1                             \n",
       "6 1                                      ... 1                             \n",
       "  e1end11e2Disc_q153_Every.3.months e1end11e2Disc_q153_Every.2.weeks\n",
       "1 0                                 0                               \n",
       "2 1                                 0                               \n",
       "3 0                                 0                               \n",
       "4 0                                 0                               \n",
       "5 0                                 0                               \n",
       "6 0                                 0                               \n",
       "  e1end11e2Disc_q156_Regular.Hours..Saturdays.\n",
       "1 1                                           \n",
       "2 0                                           \n",
       "3 0                                           \n",
       "4 0                                           \n",
       "5 1                                           \n",
       "6 1                                           \n",
       "  e1end11e2Disc_q156_Regular.Hours..Morning.only..Monday.to.Friday.\n",
       "1 0                                                                \n",
       "2 1                                                                \n",
       "3 1                                                                \n",
       "4 1                                                                \n",
       "5 0                                                                \n",
       "6 0                                                                \n",
       "  e1end11e2Disc_q156_Regular.Hours..Afternoon. e1end11e2Disc_q158_1hr\n",
       "1 0                                            1                     \n",
       "2 0                                            0                     \n",
       "3 0                                            0                     \n",
       "4 0                                            0                     \n",
       "5 0                                            0                     \n",
       "6 0                                            1                     \n",
       "  e1end11e2Disc_q158_Less.than.1.hr e1end11e2Disc_q158_2hrs.and.above\n",
       "1 0                                 0                                \n",
       "2 1                                 0                                \n",
       "3 0                                 1                                \n",
       "4 1                                 0                                \n",
       "5 1                                 0                                \n",
       "6 0                                 0                                \n",
       "  Continuation_rates\n",
       "1 Low_Continuation  \n",
       "2 Low_Continuation  \n",
       "3 High_Continuation \n",
       "4 Low_Continuation  \n",
       "5 Low_Continuation  \n",
       "6 High_Continuation "
      ]
     },
     "metadata": {},
     "output_type": "display_data"
    }
   ],
   "source": [
    "head(data)"
   ]
  },
  {
   "cell_type": "markdown",
   "id": "rotary-invitation",
   "metadata": {},
   "source": [
    "# Initialise and test h2o"
   ]
  },
  {
   "cell_type": "code",
   "execution_count": 6,
   "id": "apart-conference",
   "metadata": {},
   "outputs": [
    {
     "name": "stderr",
     "output_type": "stream",
     "text": [
      "Warning message:\n",
      "\"package 'h2o' was built under R version 4.0.4\"\n",
      "\n",
      "----------------------------------------------------------------------\n",
      "\n",
      "Your next step is to start H2O:\n",
      "    > h2o.init()\n",
      "\n",
      "For H2O package documentation, ask for help:\n",
      "    > ??h2o\n",
      "\n",
      "After starting H2O, you can use the Web UI at http://localhost:54321\n",
      "For more information visit https://docs.h2o.ai\n",
      "\n",
      "----------------------------------------------------------------------\n",
      "\n",
      "\n",
      "\n",
      "Attaching package: 'h2o'\n",
      "\n",
      "\n",
      "The following objects are masked from 'package:stats':\n",
      "\n",
      "    cor, sd, var\n",
      "\n",
      "\n",
      "The following objects are masked from 'package:base':\n",
      "\n",
      "    %*%, %in%, &&, ||, apply, as.factor, as.numeric, colnames,\n",
      "    colnames<-, ifelse, is.character, is.factor, is.numeric, log,\n",
      "    log10, log1p, log2, round, signif, trunc\n",
      "\n",
      "\n"
     ]
    },
    {
     "name": "stdout",
     "output_type": "stream",
     "text": [
      "\n",
      "H2O is not running yet, starting it now...\n",
      "\n",
      "Note:  In case of errors look at the following log files:\n",
      "    C:\\Users\\User\\AppData\\Local\\Temp\\RtmpmW0vCs\\file1a144fc9f43/h2o_User_started_from_r.out\n",
      "    C:\\Users\\User\\AppData\\Local\\Temp\\RtmpmW0vCs\\file1a14648854d6/h2o_User_started_from_r.err\n",
      "\n",
      "\n",
      "Starting H2O JVM and connecting: . Connection successful!\n",
      "\n",
      "R is connected to the H2O cluster: \n",
      "    H2O cluster uptime:         11 seconds 127 milliseconds \n",
      "    H2O cluster timezone:       Africa/Nairobi \n",
      "    H2O data parsing timezone:  UTC \n",
      "    H2O cluster version:        3.32.0.1 \n",
      "    H2O cluster version age:    5 months and 3 days !!! \n",
      "    H2O cluster name:           H2O_started_from_R_User_scc974 \n",
      "    H2O cluster total nodes:    1 \n",
      "    H2O cluster total memory:   1.75 GB \n",
      "    H2O cluster total cores:    4 \n",
      "    H2O cluster allowed cores:  4 \n",
      "    H2O cluster healthy:        TRUE \n",
      "    H2O Connection ip:          localhost \n",
      "    H2O Connection port:        54321 \n",
      "    H2O Connection proxy:       NA \n",
      "    H2O Internal Security:      FALSE \n",
      "    H2O API Extensions:         Amazon S3, Algos, AutoML, Core V3, TargetEncoder, Core V4 \n",
      "    R Version:                  R version 4.0.2 (2020-06-22) \n"
     ]
    },
    {
     "name": "stderr",
     "output_type": "stream",
     "text": [
      "Warning message in h2o.clusterInfo():\n",
      "\"\n",
      "Your H2O cluster version is too old (5 months and 3 days)!\n",
      "Please download and install the latest version from http://h2o.ai/download/\"\n"
     ]
    },
    {
     "name": "stdout",
     "output_type": "stream",
     "text": [
      "\n",
      "\n",
      "\n",
      "\tdemo(h2o.kmeans)\n",
      "\t---- ~~~~~~~~~~\n",
      "\n",
      "> # This is a demo of H2O's K-Means function\n",
      "> # It imports a data set, parses it, and prints a summary\n",
      "> # Then, it runs K-Means with k = 5 centers on a subset of characteristics\n",
      "> # Note: This demo runs H2O on localhost:54321\n",
      "> library(h2o)\n",
      "\n",
      "> h2o.init()\n",
      " Connection successful!\n",
      "\n",
      "R is connected to the H2O cluster: \n",
      "    H2O cluster uptime:         11 seconds 639 milliseconds \n",
      "    H2O cluster timezone:       Africa/Nairobi \n",
      "    H2O data parsing timezone:  UTC \n",
      "    H2O cluster version:        3.32.0.1 \n",
      "    H2O cluster version age:    5 months and 3 days !!! \n",
      "    H2O cluster name:           H2O_started_from_R_User_scc974 \n",
      "    H2O cluster total nodes:    1 \n",
      "    H2O cluster total memory:   1.75 GB \n",
      "    H2O cluster total cores:    4 \n",
      "    H2O cluster allowed cores:  4 \n",
      "    H2O cluster healthy:        TRUE \n",
      "    H2O Connection ip:          localhost \n",
      "    H2O Connection port:        54321 \n",
      "    H2O Connection proxy:       NA \n",
      "    H2O Internal Security:      FALSE \n",
      "    H2O API Extensions:         Amazon S3, Algos, AutoML, Core V3, TargetEncoder, Core V4 \n",
      "    R Version:                  R version 4.0.2 (2020-06-22) \n"
     ]
    },
    {
     "name": "stderr",
     "output_type": "stream",
     "text": [
      "Warning message in h2o.clusterInfo():\n",
      "\"\n",
      "Your H2O cluster version is too old (5 months and 3 days)!\n",
      "Please download and install the latest version from http://h2o.ai/download/\"\n"
     ]
    },
    {
     "name": "stdout",
     "output_type": "stream",
     "text": [
      "\n",
      "\n",
      "> prostate.hex = h2o.uploadFile(path = system.file(\"extdata\", \"prostate.csv\", package=\"h2o\"), destination_frame = \"prostate\")\n",
      "  |======================================================================| 100%\n",
      "\n",
      "> summary(prostate.hex)\n"
     ]
    },
    {
     "name": "stderr",
     "output_type": "stream",
     "text": [
      "Warning message in summary.H2OFrame(prostate.hex):\n",
      "\"Approximated quantiles computed! If you are interested in exact quantiles, please pass the `exact_quantiles=TRUE` parameter.\"\n"
     ]
    },
    {
     "name": "stdout",
     "output_type": "stream",
     "text": [
      " ID               CAPSULE          AGE             RACE           \n",
      " Min.   :  1.00   Min.   :0.0000   Min.   :43.00   Min.   :0.000  \n",
      " 1st Qu.: 95.75   1st Qu.:0.0000   1st Qu.:62.00   1st Qu.:1.000  \n",
      " Median :190.50   Median :0.0000   Median :67.00   Median :1.000  \n",
      " Mean   :190.50   Mean   :0.4026   Mean   :66.04   Mean   :1.087  \n",
      " 3rd Qu.:285.25   3rd Qu.:1.0000   3rd Qu.:71.00   3rd Qu.:1.000  \n",
      " Max.   :380.00   Max.   :1.0000   Max.   :79.00   Max.   :2.000  \n",
      " DPROS           DCAPS           PSA               VOL            \n",
      " Min.   :1.000   Min.   :1.000   Min.   :  0.300   Min.   : 0.00  \n",
      " 1st Qu.:1.000   1st Qu.:1.000   1st Qu.:  4.900   1st Qu.: 0.00  \n",
      " Median :2.000   Median :1.000   Median :  8.664   Median :14.20  \n",
      " Mean   :2.271   Mean   :1.108   Mean   : 15.409   Mean   :15.81  \n",
      " 3rd Qu.:3.000   3rd Qu.:1.000   3rd Qu.: 17.063   3rd Qu.:26.40  \n",
      " Max.   :4.000   Max.   :2.000   Max.   :139.700   Max.   :97.60  \n",
      " GLEASON        \n",
      " Min.   :0.000  \n",
      " 1st Qu.:6.000  \n",
      " Median :6.000  \n",
      " Mean   :6.384  \n",
      " 3rd Qu.:7.000  \n",
      " Max.   :9.000  \n",
      "\n",
      "> prostate.km = h2o.kmeans(prostate.hex, k = 10, x = c(\"AGE\",\"RACE\",\"GLEASON\",\"CAPSULE\",\"DCAPS\"))\n",
      "  |======================================================================| 100%\n",
      "\n",
      "> print(prostate.km)\n",
      "Model Details:\n",
      "==============\n",
      "\n",
      "H2OClusteringModel: kmeans\n",
      "Model ID:  KMeans_model_R_1615559158809_1 \n",
      "Model Summary: \n",
      "  number_of_rows number_of_clusters number_of_categorical_columns\n",
      "1            380                 10                             0\n",
      "  number_of_iterations within_cluster_sum_of_squares total_sum_of_squares\n",
      "1                   10                     544.49998           1895.00000\n",
      "  between_cluster_sum_of_squares\n",
      "1                     1350.50002\n",
      "\n",
      "\n",
      "H2OClusteringMetrics: kmeans\n",
      "** Reported on training data. **\n",
      "\n",
      "\n",
      "Total Within SS:  541.5231\n",
      "Between SS:  1353.477\n",
      "Total SS:  1895 \n",
      "Centroid Statistics: \n",
      "   centroid      size within_cluster_sum_of_squares\n",
      "1         1 155.00000                     162.72175\n",
      "2         2   6.00000                      10.15081\n",
      "3         3   2.00000                       0.04695\n",
      "4         4   1.00000                       0.00000\n",
      "5         5  16.00000                      25.96375\n",
      "6         6  58.00000                     105.48200\n",
      "7         7  19.00000                      40.56120\n",
      "8         8  30.00000                      82.95187\n",
      "9         9   1.00000                       0.00000\n",
      "10       10  92.00000                     113.64476\n",
      "\n",
      "\n",
      "\n",
      "\n",
      "> prostate.data = as.data.frame(prostate.hex)\n",
      "\n",
      "> # prostate.clus = as.data.frame(prostate.km@model$cluster)\n",
      "> \n",
      "> # Plot categorized data\n",
      "> # if(!\"fpc\" %in% rownames(installed.packages())) install.packages(\"fpc\")\n",
      "> # if(\"fpc\" %in% rownames(installed.packages())) {\n",
      "> #  library(fpc)\n",
      "> \n",
      "> #  par(mfrow=c(1,1))\n",
      "> #  plotcluster(prostate.data, prostate.clus[,1])\n",
      "> #  title(\"K-Means Classification for k = 10\")\n",
      "> # }\n",
      "> \n",
      "> # if(!\"cluster\" %in% rownames(installed.packages())) install.packages(\"cluster\")\n",
      "> # if(\"cluster\" %in% rownames(installed.packages())) {\n",
      "> #  library(cluster)\n",
      "> #  clusplot(prostate.data, prostate.clus[,1], color = TRUE, shade = TRUE)\n",
      "> # }\n",
      "> # pairs(prostate.data[,c(2,3,7,8)], col=prostate.clus[,1])\n",
      "> \n",
      "> # Plot k-means centers\n",
      "> par(mfrow = c(1,2))\n",
      "\n",
      "> prostate.ctrs = as.data.frame(prostate.km@model$centers)\n",
      "\n",
      "> plot(prostate.ctrs[,1:2])\n",
      "\n",
      "> plot(prostate.ctrs[,3:4])\n",
      "\n",
      "> title(\"K-Means Centers for k = 10\", outer = TRUE, line = -2.0)\n"
     ]
    },
    {
     "data": {
      "image/png": "[encoded data removed]",
      "text/plain": [
       "Plot with title \"K-Means Centers for k = 10\""
      ]
     },
     "metadata": {
      "image/png": {
       "height": 420,
       "width": 420
      }
     },
     "output_type": "display_data"
    }
   ],
   "source": [
    "library(h2o)\n",
    "localH2O = h2o.init()\n",
    "demo(h2o.kmeans)"
   ]
  },
  {
   "cell_type": "markdown",
   "id": "afraid-bahrain",
   "metadata": {},
   "source": [
    "# Model training"
   ]
  },
  {
   "cell_type": "markdown",
   "id": "powerful-simon",
   "metadata": {},
   "source": [
    "Model training with default settings that include: early stopping and random search hyper-parameter tuning. \n",
    "\n",
    "Notes:\n",
    "1. Stratified split is not available - but can be passed as a parameter depending on the type of algorithm used.\n",
    "2. Grid Search hyper-parameter tuning is done on specific algorithms - according to this [link.](https://docs.h2o.ai/h2o/latest-stable/h2o-docs/automl.html#random-grid-search-parameters)\n",
    "3. When `max_models` is set, what criteria is used to select the models? [This link](https://docs.h2o.ai/h2o/latest-stable/h2o-docs/automl.html#faq) under FAQs describes the order in which the models are trained when `h2o.automl` is used. If 4 is chosen, the first 4 in that order are selected.\n",
    "\n",
    "Ref:\n",
    "* http://docs.h2o.ai/h2o/latest-stable/h2o-docs/data-science/algo-params/fold_assignment.html\n",
    "* http://docs.h2o.ai/h2o/latest-stable/h2o-docs/data-science/algo-params/fold_assignment.html?highlight=stratified#example\n",
    "* https://docs.h2o.ai/h2o/latest-stable/h2o-docs/automl.html#faq\n",
    "* https://docs.h2o.ai/h2o/latest-stable/h2o-docs/automl.html#random-grid-search-parameters"
   ]
  },
  {
   "cell_type": "code",
   "execution_count": 7,
   "id": "descending-morocco",
   "metadata": {},
   "outputs": [
    {
     "data": {
      "text/html": [
       "<table class=\"dataframe\">\n",
       "<caption>A data.frame: 2 × 3</caption>\n",
       "<thead>\n",
       "\t<tr><th></th><th scope=col>Continuation_rates</th><th scope=col>n</th><th scope=col>prop</th></tr>\n",
       "\t<tr><th></th><th scope=col>&lt;fct&gt;</th><th scope=col>&lt;int&gt;</th><th scope=col>&lt;dbl&gt;</th></tr>\n",
       "</thead>\n",
       "<tbody>\n",
       "\t<tr><th scope=row>1</th><td>High_Continuation</td><td>189</td><td>0.3165829</td></tr>\n",
       "\t<tr><th scope=row>2</th><td>Low_Continuation </td><td>408</td><td>0.6834171</td></tr>\n",
       "</tbody>\n",
       "</table>\n"
      ],
      "text/latex": [
       "A data.frame: 2 × 3\n",
       "\\begin{tabular}{r|lll}\n",
       "  & Continuation\\_rates & n & prop\\\\\n",
       "  & <fct> & <int> & <dbl>\\\\\n",
       "\\hline\n",
       "\t1 & High\\_Continuation & 189 & 0.3165829\\\\\n",
       "\t2 & Low\\_Continuation  & 408 & 0.6834171\\\\\n",
       "\\end{tabular}\n"
      ],
      "text/markdown": [
       "\n",
       "A data.frame: 2 × 3\n",
       "\n",
       "| <!--/--> | Continuation_rates &lt;fct&gt; | n &lt;int&gt; | prop &lt;dbl&gt; |\n",
       "|---|---|---|---|\n",
       "| 1 | High_Continuation | 189 | 0.3165829 |\n",
       "| 2 | Low_Continuation  | 408 | 0.6834171 |\n",
       "\n"
      ],
      "text/plain": [
       "  Continuation_rates n   prop     \n",
       "1 High_Continuation  189 0.3165829\n",
       "2 Low_Continuation   408 0.6834171"
      ]
     },
     "metadata": {},
     "output_type": "display_data"
    }
   ],
   "source": [
    "data %>% \n",
    "count(Continuation_rates) %>% \n",
    "mutate(prop = n/sum(n))"
   ]
  },
  {
   "cell_type": "code",
   "execution_count": 8,
   "id": "stock-discrimination",
   "metadata": {},
   "outputs": [],
   "source": [
    "set.seed(123)\n",
    "train_idx <- caret::createDataPartition(y = data$Continuation_rates, p = 0.8, list = FALSE)"
   ]
  },
  {
   "cell_type": "code",
   "execution_count": 9,
   "id": "affiliated-bosnia",
   "metadata": {},
   "outputs": [],
   "source": [
    "train_data <- data[train_idx,]\n",
    "test_data <- data[-train_idx,]"
   ]
  },
  {
   "cell_type": "code",
   "execution_count": 10,
   "id": "different-publicity",
   "metadata": {},
   "outputs": [],
   "source": [
    "train_x <- train_data %>% select(-Continuation_rates)\n",
    "train_y <- train_data %>% select(Continuation_rates)"
   ]
  },
  {
   "cell_type": "code",
   "execution_count": 11,
   "id": "thousand-arena",
   "metadata": {},
   "outputs": [],
   "source": [
    "test_x <- test_data %>% select(-Continuation_rates)\n",
    "test_y <- test_data %>% select(Continuation_rates)"
   ]
  },
  {
   "cell_type": "code",
   "execution_count": 12,
   "id": "psychological-nursery",
   "metadata": {},
   "outputs": [],
   "source": [
    "outcome <- \"Continuation_rates\"\n",
    "\n",
    "predictors <- setdiff(colnames(data),outcome)"
   ]
  },
  {
   "cell_type": "code",
   "execution_count": 13,
   "id": "ideal-activity",
   "metadata": {},
   "outputs": [
    {
     "name": "stdout",
     "output_type": "stream",
     "text": [
      "  |======================================================================| 100%\n",
      "  |======================================================================| 100%\n"
     ]
    }
   ],
   "source": [
    "#Convert to h2oFrame object\n",
    "train_data <- as.h2o(train_data)\n",
    "test_data <- as.h2o(test_data)"
   ]
  },
  {
   "cell_type": "code",
   "execution_count": 14,
   "id": "prostate-toronto",
   "metadata": {},
   "outputs": [],
   "source": [
    "doParallel::registerDoParallel(parallel::detectCores())"
   ]
  },
  {
   "cell_type": "code",
   "execution_count": 15,
   "id": "connected-smart",
   "metadata": {},
   "outputs": [
    {
     "name": "stdout",
     "output_type": "stream",
     "text": [
      "  |                                                                      |   0%\n",
      "17:26:28.0: User specified a validation frame with cross-validation still enabled. Please note that the models will still be validated using cross-validation only, the validation frame will be used to provide purely informative validation metrics on the trained models.\n",
      "  |======================================================================| 100%\n"
     ]
    },
    {
     "data": {
      "text/plain": [
       "   user  system elapsed \n",
       "  13.39    0.43 1006.63 "
      ]
     },
     "metadata": {},
     "output_type": "display_data"
    }
   ],
   "source": [
    "system.time(\n",
    "h2o_model <- h2o.automl(x = predictors, \n",
    "                        y = outcome,\n",
    "                        training_frame = train_data,\n",
    "                        validation_frame = test_data, \n",
    "                        nfolds = 10, \n",
    "                        balance_classes = TRUE, \n",
    "                        max_models = 20, \n",
    "                        seed = 123, \n",
    "                        max_runtime_secs = 60*30)\n",
    ")"
   ]
  },
  {
   "cell_type": "code",
   "execution_count": 16,
   "id": "lesbian-feeding",
   "metadata": {},
   "outputs": [],
   "source": [
    "doParallel::stopImplicitCluster()"
   ]
  },
  {
   "cell_type": "markdown",
   "id": "ranging-berlin",
   "metadata": {},
   "source": [
    "# Training & validation results"
   ]
  },
  {
   "cell_type": "code",
   "execution_count": 17,
   "id": "clean-seller",
   "metadata": {},
   "outputs": [],
   "source": [
    "training_results <- as_tibble(h2o_model@leaderboard) %>% mutate(sn = row_number()) %>% \n",
    "relocate(sn, `.before` = everything())"
   ]
  },
  {
   "cell_type": "code",
   "execution_count": 18,
   "id": "personalized-limit",
   "metadata": {},
   "outputs": [
    {
     "data": {
      "text/html": [
       "<table class=\"dataframe\">\n",
       "<caption>A tibble: 3 × 8</caption>\n",
       "<thead>\n",
       "\t<tr><th scope=col>sn</th><th scope=col>model_id</th><th scope=col>auc</th><th scope=col>logloss</th><th scope=col>aucpr</th><th scope=col>mean_per_class_error</th><th scope=col>rmse</th><th scope=col>mse</th></tr>\n",
       "\t<tr><th scope=col>&lt;int&gt;</th><th scope=col>&lt;chr&gt;</th><th scope=col>&lt;dbl&gt;</th><th scope=col>&lt;dbl&gt;</th><th scope=col>&lt;dbl&gt;</th><th scope=col>&lt;dbl&gt;</th><th scope=col>&lt;dbl&gt;</th><th scope=col>&lt;dbl&gt;</th></tr>\n",
       "</thead>\n",
       "<tbody>\n",
       "\t<tr><td> 1</td><td>DeepLearning_grid__2_AutoML_20210312_172628_model_2</td><td>0.5941675</td><td>0.7958788</td><td>0.7787074</td><td>0.4916606</td><td>0.5182256</td><td>0.2685578</td></tr>\n",
       "\t<tr><td> 7</td><td>StackedEnsemble_BestOfFamily_AutoML_20210312_172628</td><td>0.5776094</td><td>0.6151870</td><td>0.7704721</td><td>0.5000000</td><td>0.4618589</td><td>0.2133136</td></tr>\n",
       "\t<tr><td>12</td><td>StackedEnsemble_AllModels_AutoML_20210312_172628   </td><td>0.5657895</td><td>0.6179493</td><td>0.7493928</td><td>0.4931897</td><td>0.4630051</td><td>0.2143738</td></tr>\n",
       "</tbody>\n",
       "</table>\n"
      ],
      "text/latex": [
       "A tibble: 3 × 8\n",
       "\\begin{tabular}{llllllll}\n",
       " sn & model\\_id & auc & logloss & aucpr & mean\\_per\\_class\\_error & rmse & mse\\\\\n",
       " <int> & <chr> & <dbl> & <dbl> & <dbl> & <dbl> & <dbl> & <dbl>\\\\\n",
       "\\hline\n",
       "\t  1 & DeepLearning\\_grid\\_\\_2\\_AutoML\\_20210312\\_172628\\_model\\_2 & 0.5941675 & 0.7958788 & 0.7787074 & 0.4916606 & 0.5182256 & 0.2685578\\\\\n",
       "\t  7 & StackedEnsemble\\_BestOfFamily\\_AutoML\\_20210312\\_172628 & 0.5776094 & 0.6151870 & 0.7704721 & 0.5000000 & 0.4618589 & 0.2133136\\\\\n",
       "\t 12 & StackedEnsemble\\_AllModels\\_AutoML\\_20210312\\_172628    & 0.5657895 & 0.6179493 & 0.7493928 & 0.4931897 & 0.4630051 & 0.2143738\\\\\n",
       "\\end{tabular}\n"
      ],
      "text/markdown": [
       "\n",
       "A tibble: 3 × 8\n",
       "\n",
       "| sn &lt;int&gt; | model_id &lt;chr&gt; | auc &lt;dbl&gt; | logloss &lt;dbl&gt; | aucpr &lt;dbl&gt; | mean_per_class_error &lt;dbl&gt; | rmse &lt;dbl&gt; | mse &lt;dbl&gt; |\n",
       "|---|---|---|---|---|---|---|---|\n",
       "|  1 | DeepLearning_grid__2_AutoML_20210312_172628_model_2 | 0.5941675 | 0.7958788 | 0.7787074 | 0.4916606 | 0.5182256 | 0.2685578 |\n",
       "|  7 | StackedEnsemble_BestOfFamily_AutoML_20210312_172628 | 0.5776094 | 0.6151870 | 0.7704721 | 0.5000000 | 0.4618589 | 0.2133136 |\n",
       "| 12 | StackedEnsemble_AllModels_AutoML_20210312_172628    | 0.5657895 | 0.6179493 | 0.7493928 | 0.4931897 | 0.4630051 | 0.2143738 |\n",
       "\n"
      ],
      "text/plain": [
       "  sn model_id                                            auc       logloss  \n",
       "1  1 DeepLearning_grid__2_AutoML_20210312_172628_model_2 0.5941675 0.7958788\n",
       "2  7 StackedEnsemble_BestOfFamily_AutoML_20210312_172628 0.5776094 0.6151870\n",
       "3 12 StackedEnsemble_AllModels_AutoML_20210312_172628    0.5657895 0.6179493\n",
       "  aucpr     mean_per_class_error rmse      mse      \n",
       "1 0.7787074 0.4916606            0.5182256 0.2685578\n",
       "2 0.7704721 0.5000000            0.4618589 0.2133136\n",
       "3 0.7493928 0.4931897            0.4630051 0.2143738"
      ]
     },
     "metadata": {},
     "output_type": "display_data"
    }
   ],
   "source": [
    "bind_rows(\n",
    "training_results %>% head(1),\n",
    "\n",
    "training_results %>% \n",
    "filter(str_detect(string = model_id, pattern = \"Ens\")))"
   ]
  },
  {
   "cell_type": "code",
   "execution_count": 19,
   "id": "driven-defeat",
   "metadata": {},
   "outputs": [
    {
     "data": {
      "text/plain": [
       "Model Details:\n",
       "==============\n",
       "\n",
       "H2OBinomialModel: deeplearning\n",
       "Model ID:  DeepLearning_grid__2_AutoML_20210312_172628_model_2 \n",
       "Status of Neuron Layers: predicting Continuation_rates, 2-class classification, bernoulli distribution, CrossEntropy loss, 8,502 weights/biases, 135.0 KB, 584,730 training samples, mini-batch size 1\n",
       "  layer units             type dropout       l1       l2 mean_rate rate_rms\n",
       "1     1   116            Input  0.00 %       NA       NA        NA       NA\n",
       "2     2    50 RectifierDropout 50.00 % 0.000000 0.000000  0.008616 0.017030\n",
       "3     3    50 RectifierDropout 50.00 % 0.000000 0.000000  0.003415 0.015747\n",
       "4     4     2          Softmax      NA 0.000000 0.000000  0.005707 0.006859\n",
       "  momentum mean_weight weight_rms mean_bias bias_rms\n",
       "1       NA          NA         NA        NA       NA\n",
       "2 0.000000    0.188701   0.240668 -0.012753 0.162716\n",
       "3 0.000000   -0.025942   0.165097  0.593419 0.303803\n",
       "4 0.000000    0.108099   0.934685  0.017226 0.204526\n",
       "\n",
       "\n",
       "H2OBinomialMetrics: deeplearning\n",
       "** Reported on training data. **\n",
       "** Metrics reported on full training frame **\n",
       "\n",
       "MSE:  0.0004706807\n",
       "RMSE:  0.02169518\n",
       "LogLoss:  0.003798175\n",
       "Mean Per-Class Error:  0\n",
       "AUC:  1\n",
       "AUCPR:  1\n",
       "Gini:  1\n",
       "\n",
       "Confusion Matrix (vertical: actual; across: predicted) for F1-optimal threshold:\n",
       "                  High_Continuation Low_Continuation    Error    Rate\n",
       "High_Continuation               330                0 0.000000  =0/330\n",
       "Low_Continuation                  0              327 0.000000  =0/327\n",
       "Totals                          330              327 0.000000  =0/657\n",
       "\n",
       "Maximum Metrics: Maximum metrics at their respective thresholds\n",
       "                        metric threshold      value idx\n",
       "1                       max f1  0.586377   1.000000 169\n",
       "2                       max f2  0.586377   1.000000 169\n",
       "3                 max f0point5  0.586377   1.000000 169\n",
       "4                 max accuracy  0.586377   1.000000 169\n",
       "5                max precision  1.000000   1.000000   0\n",
       "6                   max recall  0.586377   1.000000 169\n",
       "7              max specificity  1.000000   1.000000   0\n",
       "8             max absolute_mcc  0.586377   1.000000 169\n",
       "9   max min_per_class_accuracy  0.586377   1.000000 169\n",
       "10 max mean_per_class_accuracy  0.586377   1.000000 169\n",
       "11                     max tns  1.000000 330.000000   0\n",
       "12                     max fns  1.000000 199.000000   0\n",
       "13                     max fps  0.000000 330.000000 321\n",
       "14                     max tps  0.586377 327.000000 169\n",
       "15                     max tnr  1.000000   1.000000   0\n",
       "16                     max fnr  1.000000   0.608563   0\n",
       "17                     max fpr  0.000000   1.000000 321\n",
       "18                     max tpr  0.586377   1.000000 169\n",
       "\n",
       "Gains/Lift Table: Extract with `h2o.gainsLift(<model>, <data>)` or `h2o.gainsLift(<model>, valid=<T/F>, xval=<T/F>)`\n",
       "H2OBinomialMetrics: deeplearning\n",
       "** Reported on validation data. **\n",
       "** Metrics reported on full validation frame **\n",
       "\n",
       "MSE:  0.3365567\n",
       "RMSE:  0.5801351\n",
       "LogLoss:  2.428955\n",
       "Mean Per-Class Error:  0.3895562\n",
       "AUC:  0.678345\n",
       "AUCPR:  0.7992543\n",
       "Gini:  0.35669\n",
       "\n",
       "Confusion Matrix (vertical: actual; across: predicted) for F1-optimal threshold:\n",
       "                  High_Continuation Low_Continuation    Error     Rate\n",
       "High_Continuation                10               27 0.729730   =27/37\n",
       "Low_Continuation                  4               77 0.049383    =4/81\n",
       "Totals                           14              104 0.262712  =31/118\n",
       "\n",
       "Maximum Metrics: Maximum metrics at their respective thresholds\n",
       "                        metric threshold     value idx\n",
       "1                       max f1  0.003042  0.832432  97\n",
       "2                       max f2  0.000062  0.924658 107\n",
       "3                 max f0point5  0.032620  0.789474  82\n",
       "4                 max accuracy  0.003042  0.737288  97\n",
       "5                max precision  1.000000  0.909091   4\n",
       "6                   max recall  0.000062  1.000000 107\n",
       "7              max specificity  1.000000  0.972973   0\n",
       "8             max absolute_mcc  0.032620  0.335463  82\n",
       "9   max min_per_class_accuracy  0.847186  0.604938  56\n",
       "10 max mean_per_class_accuracy  0.032620  0.655656  82\n",
       "11                     max tns  1.000000 36.000000   0\n",
       "12                     max fns  1.000000 75.000000   0\n",
       "13                     max fps  0.000001 37.000000 111\n",
       "14                     max tps  0.000062 81.000000 107\n",
       "15                     max tnr  1.000000  0.972973   0\n",
       "16                     max fnr  1.000000  0.925926   0\n",
       "17                     max fpr  0.000001  1.000000 111\n",
       "18                     max tpr  0.000062  1.000000 107\n",
       "\n",
       "Gains/Lift Table: Extract with `h2o.gainsLift(<model>, <data>)` or `h2o.gainsLift(<model>, valid=<T/F>, xval=<T/F>)`\n",
       "H2OBinomialMetrics: deeplearning\n",
       "** Reported on cross-validation data. **\n",
       "** 10-fold cross-validation on training data (Metrics computed for combined holdout predictions) **\n",
       "\n",
       "MSE:  0.2685578\n",
       "RMSE:  0.5182256\n",
       "LogLoss:  0.7958788\n",
       "Mean Per-Class Error:  0.4916606\n",
       "AUC:  0.5941675\n",
       "AUCPR:  0.7787074\n",
       "Gini:  0.1883349\n",
       "\n",
       "Confusion Matrix (vertical: actual; across: predicted) for F1-optimal threshold:\n",
       "                  High_Continuation Low_Continuation    Error      Rate\n",
       "High_Continuation                 3              149 0.980263  =149/152\n",
       "Low_Continuation                  1              326 0.003058    =1/327\n",
       "Totals                            4              475 0.313152  =150/479\n",
       "\n",
       "Maximum Metrics: Maximum metrics at their respective thresholds\n",
       "                        metric threshold      value idx\n",
       "1                       max f1  0.047188   0.812968 395\n",
       "2                       max f2  0.026850   0.915454 398\n",
       "3                 max f0point5  0.047188   0.731926 395\n",
       "4                 max accuracy  0.047188   0.686848 395\n",
       "5                max precision  0.999951   1.000000   0\n",
       "6                   max recall  0.026850   1.000000 398\n",
       "7              max specificity  0.999951   1.000000   0\n",
       "8             max absolute_mcc  0.930240   0.195703  66\n",
       "9   max min_per_class_accuracy  0.654501   0.565789 192\n",
       "10 max mean_per_class_accuracy  0.871309   0.593604  97\n",
       "11                     max tns  0.999951 152.000000   0\n",
       "12                     max fns  0.999951 324.000000   0\n",
       "13                     max fps  0.019614 152.000000 399\n",
       "14                     max tps  0.026850 327.000000 398\n",
       "15                     max tnr  0.999951   1.000000   0\n",
       "16                     max fnr  0.999951   0.990826   0\n",
       "17                     max fpr  0.019614   1.000000 399\n",
       "18                     max tpr  0.026850   1.000000 398\n",
       "\n",
       "Gains/Lift Table: Extract with `h2o.gainsLift(<model>, <data>)` or `h2o.gainsLift(<model>, valid=<T/F>, xval=<T/F>)`\n",
       "Cross-Validation Metrics Summary: \n",
       "                mean          sd cv_1_valid cv_2_valid cv_3_valid cv_4_valid\n",
       "accuracy   0.7011525  0.06884005  0.6666667  0.7083333  0.6666667       0.75\n",
       "auc        0.5915704 0.046660542 0.60151803 0.62998104  0.5351044  0.5601852\n",
       "aucpr      0.7762733  0.08237062  0.7759176 0.74302024  0.7484465 0.82722455\n",
       "err       0.29884753  0.06884005 0.33333334 0.29166666 0.33333334       0.25\n",
       "err_count       14.3   3.1989582       16.0       14.0       16.0       12.0\n",
       "          cv_5_valid cv_6_valid cv_7_valid cv_8_valid cv_9_valid cv_10_valid\n",
       "accuracy      0.6875     0.8125     0.6875  0.7291667       0.75   0.5531915\n",
       "auc       0.63434345  0.6763158 0.54141414   0.567033  0.6134454  0.55636364\n",
       "aucpr      0.8197536  0.8631623   0.779791 0.82464063  0.8129515  0.56782496\n",
       "err           0.3125     0.1875     0.3125 0.27083334       0.25  0.44680852\n",
       "err_count       15.0        9.0       15.0       13.0       12.0        21.0\n",
       "\n",
       "---\n",
       "                   mean          sd  cv_1_valid   cv_2_valid  cv_3_valid\n",
       "pr_auc        0.7762733  0.08237062   0.7759176   0.74302024   0.7484465\n",
       "precision     0.6992892 0.076648906  0.65957445    0.6888889  0.65957445\n",
       "r2          -0.26644164   0.1645148 -0.25673681 -0.039918832 -0.38774726\n",
       "recall       0.99179566 0.018141493         1.0          1.0         1.0\n",
       "rmse         0.51656777   0.0441811   0.5361499   0.48771238   0.5634031\n",
       "specificity  0.08538579   0.1070511  0.05882353    0.1764706  0.05882353\n",
       "            cv_4_valid  cv_5_valid   cv_6_valid  cv_7_valid  cv_8_valid\n",
       "pr_auc      0.82722455   0.8197536    0.8631623    0.779791  0.82464063\n",
       "precision         0.75      0.6875    0.8372093      0.6875   0.7291667\n",
       "r2          -0.4788571 -0.21276285 -0.022589635 -0.48455194 -0.36910832\n",
       "recall             1.0         1.0   0.94736844         1.0         1.0\n",
       "rmse        0.52657926   0.5104454   0.41067782  0.56475365   0.5199761\n",
       "specificity        0.0         0.0          0.3         0.0         0.0\n",
       "             cv_9_valid cv_10_valid\n",
       "pr_auc        0.8129515  0.56782496\n",
       "precision          0.75  0.54347825\n",
       "r2          -0.25401536 -0.15812841\n",
       "recall        0.9705882         1.0\n",
       "rmse          0.5089952   0.5369846\n",
       "specificity  0.21428572 0.045454547"
      ]
     },
     "metadata": {},
     "output_type": "display_data"
    }
   ],
   "source": [
    "h2o_model@leader"
   ]
  },
  {
   "cell_type": "markdown",
   "id": "historical-yemen",
   "metadata": {},
   "source": [
    "The top performing model has an AUC of 67% compared with a baseline of 70%. This is captured under *Metrics reported on full validation frame (118 obs.)*. Given that these results are very close to our baseline, and considering the little effort that has gone into developing the model as well as its ensembles, this looks like a desirable way of automating the development of models even with the limitation in variety of models available. Even after adjusting the threshold to optimal values, this model is still at par with the Oral Prep one. Both models are using the same 10 features."
   ]
  },
  {
   "cell_type": "markdown",
   "id": "complicated-missile",
   "metadata": {},
   "source": [
    "# Optimise thresholds of the model (i.e. operating point)"
   ]
  },
  {
   "cell_type": "code",
   "execution_count": 20,
   "id": "abandoned-wallpaper",
   "metadata": {},
   "outputs": [
    {
     "data": {
      "text/html": [
       "'H2OBinomialModel'"
      ],
      "text/latex": [
       "'H2OBinomialModel'"
      ],
      "text/markdown": [
       "'H2OBinomialModel'"
      ],
      "text/plain": [
       "[1] \"H2OBinomialModel\"\n",
       "attr(,\"package\")\n",
       "[1] \"h2o\""
      ]
     },
     "metadata": {},
     "output_type": "display_data"
    }
   ],
   "source": [
    "#ROC OPERATING POINT\n",
    "class(h2o_model@leader)"
   ]
  },
  {
   "cell_type": "code",
   "execution_count": 21,
   "id": "healthy-interval",
   "metadata": {},
   "outputs": [],
   "source": [
    "perf <- h2o.performance(model = h2o_model@leader, newdata = test_data, valid = TRUE)"
   ]
  },
  {
   "cell_type": "code",
   "execution_count": 22,
   "id": "honey-stress",
   "metadata": {},
   "outputs": [
    {
     "data": {
      "image/png": "[encoded data removed]",
      "text/plain": [
       "Plot with title \"Receiver Operating Characteristic curve\""
      ]
     },
     "metadata": {
      "image/png": {
       "height": 420,
       "width": 420
      }
     },
     "output_type": "display_data"
    }
   ],
   "source": [
    "plot(perf, type=\"roc\")"
   ]
  },
  {
   "cell_type": "code",
   "execution_count": 23,
   "id": "casual-offset",
   "metadata": {},
   "outputs": [
    {
     "data": {
      "text/plain": [
       "H2OBinomialMetrics: deeplearning\n",
       "\n",
       "MSE:  0.3365567\n",
       "RMSE:  0.5801351\n",
       "LogLoss:  2.428955\n",
       "Mean Per-Class Error:  0.3895562\n",
       "AUC:  0.678345\n",
       "AUCPR:  0.7992543\n",
       "Gini:  0.35669\n",
       "\n",
       "Confusion Matrix (vertical: actual; across: predicted) for F1-optimal threshold:\n",
       "                  High_Continuation Low_Continuation    Error     Rate\n",
       "High_Continuation                10               27 0.729730   =27/37\n",
       "Low_Continuation                  4               77 0.049383    =4/81\n",
       "Totals                           14              104 0.262712  =31/118\n",
       "\n",
       "Maximum Metrics: Maximum metrics at their respective thresholds\n",
       "                        metric threshold     value idx\n",
       "1                       max f1  0.003042  0.832432  97\n",
       "2                       max f2  0.000062  0.924658 107\n",
       "3                 max f0point5  0.032620  0.789474  82\n",
       "4                 max accuracy  0.003042  0.737288  97\n",
       "5                max precision  1.000000  0.909091   4\n",
       "6                   max recall  0.000062  1.000000 107\n",
       "7              max specificity  1.000000  0.972973   0\n",
       "8             max absolute_mcc  0.032620  0.335463  82\n",
       "9   max min_per_class_accuracy  0.847186  0.604938  56\n",
       "10 max mean_per_class_accuracy  0.032620  0.655656  82\n",
       "11                     max tns  1.000000 36.000000   0\n",
       "12                     max fns  1.000000 75.000000   0\n",
       "13                     max fps  0.000001 37.000000 111\n",
       "14                     max tps  0.000062 81.000000 107\n",
       "15                     max tnr  1.000000  0.972973   0\n",
       "16                     max fnr  1.000000  0.925926   0\n",
       "17                     max fpr  0.000001  1.000000 111\n",
       "18                     max tpr  0.000062  1.000000 107\n",
       "\n",
       "Gains/Lift Table: Extract with `h2o.gainsLift(<model>, <data>)` or `h2o.gainsLift(<model>, valid=<T/F>, xval=<T/F>)`"
      ]
     },
     "metadata": {},
     "output_type": "display_data"
    }
   ],
   "source": [
    "perf"
   ]
  },
  {
   "attachments": {
    "image.png": {
     "image/png": "[encoded data removed]"
    }
   },
   "cell_type": "markdown",
   "id": "convenient-mounting",
   "metadata": {},
   "source": [
    "![image.png](attachment:image.png)"
   ]
  },
  {
   "attachments": {
    "image.png": {
     "image/png": "[encoded data removed]"
    }
   },
   "cell_type": "markdown",
   "id": "rubber-senate",
   "metadata": {},
   "source": [
    "![image.png](attachment:image.png)"
   ]
  },
  {
   "cell_type": "markdown",
   "id": "animated-order",
   "metadata": {},
   "source": [
    "tpr = sensitivity <br/>\n",
    "fpr = 1-specificity"
   ]
  },
  {
   "cell_type": "code",
   "execution_count": 24,
   "id": "israeli-fancy",
   "metadata": {},
   "outputs": [
    {
     "name": "stderr",
     "output_type": "stream",
     "text": [
      "New names:\n",
      "* threshold -> threshold...1\n",
      "* threshold -> threshold...3\n",
      "\n"
     ]
    }
   ],
   "source": [
    "metrics <- as_tibble(bind_cols(h2o.tpr(object = perf),h2o.fpr(object = perf)))"
   ]
  },
  {
   "cell_type": "code",
   "execution_count": 39,
   "id": "synthetic-roads",
   "metadata": {},
   "outputs": [
    {
     "data": {
      "text/html": [
       "<table class=\"dataframe\">\n",
       "<caption>A tibble: 6 × 5</caption>\n",
       "<thead>\n",
       "\t<tr><th scope=col>threshold</th><th scope=col>sensitivity</th><th scope=col>fpr</th><th scope=col>specificity</th><th scope=col>d</th></tr>\n",
       "\t<tr><th scope=col>&lt;dbl&gt;</th><th scope=col>&lt;dbl&gt;</th><th scope=col>&lt;dbl&gt;</th><th scope=col>&lt;dbl&gt;</th><th scope=col>&lt;dbl&gt;</th></tr>\n",
       "</thead>\n",
       "<tbody>\n",
       "\t<tr><td>0.9334246</td><td>0.5802469</td><td>0.2972973</td><td>0.7027027</td><td>0.5143718</td></tr>\n",
       "\t<tr><td>0.9625225</td><td>0.5555556</td><td>0.2702703</td><td>0.7297297</td><td>0.5201701</td></tr>\n",
       "\t<tr><td>0.9500833</td><td>0.5679012</td><td>0.2972973</td><td>0.7027027</td><td>0.5244950</td></tr>\n",
       "\t<tr><td>0.9248589</td><td>0.5802469</td><td>0.3243243</td><td>0.6756757</td><td>0.5304516</td></tr>\n",
       "\t<tr><td>0.9639995</td><td>0.5432099</td><td>0.2702703</td><td>0.7297297</td><td>0.5307572</td></tr>\n",
       "\t<tr><td>0.9514745</td><td>0.5555556</td><td>0.2972973</td><td>0.7027027</td><td>0.5347116</td></tr>\n",
       "</tbody>\n",
       "</table>\n"
      ],
      "text/latex": [
       "A tibble: 6 × 5\n",
       "\\begin{tabular}{lllll}\n",
       " threshold & sensitivity & fpr & specificity & d\\\\\n",
       " <dbl> & <dbl> & <dbl> & <dbl> & <dbl>\\\\\n",
       "\\hline\n",
       "\t 0.9334246 & 0.5802469 & 0.2972973 & 0.7027027 & 0.5143718\\\\\n",
       "\t 0.9625225 & 0.5555556 & 0.2702703 & 0.7297297 & 0.5201701\\\\\n",
       "\t 0.9500833 & 0.5679012 & 0.2972973 & 0.7027027 & 0.5244950\\\\\n",
       "\t 0.9248589 & 0.5802469 & 0.3243243 & 0.6756757 & 0.5304516\\\\\n",
       "\t 0.9639995 & 0.5432099 & 0.2702703 & 0.7297297 & 0.5307572\\\\\n",
       "\t 0.9514745 & 0.5555556 & 0.2972973 & 0.7027027 & 0.5347116\\\\\n",
       "\\end{tabular}\n"
      ],
      "text/markdown": [
       "\n",
       "A tibble: 6 × 5\n",
       "\n",
       "| threshold &lt;dbl&gt; | sensitivity &lt;dbl&gt; | fpr &lt;dbl&gt; | specificity &lt;dbl&gt; | d &lt;dbl&gt; |\n",
       "|---|---|---|---|---|\n",
       "| 0.9334246 | 0.5802469 | 0.2972973 | 0.7027027 | 0.5143718 |\n",
       "| 0.9625225 | 0.5555556 | 0.2702703 | 0.7297297 | 0.5201701 |\n",
       "| 0.9500833 | 0.5679012 | 0.2972973 | 0.7027027 | 0.5244950 |\n",
       "| 0.9248589 | 0.5802469 | 0.3243243 | 0.6756757 | 0.5304516 |\n",
       "| 0.9639995 | 0.5432099 | 0.2702703 | 0.7297297 | 0.5307572 |\n",
       "| 0.9514745 | 0.5555556 | 0.2972973 | 0.7027027 | 0.5347116 |\n",
       "\n"
      ],
      "text/plain": [
       "  threshold sensitivity fpr       specificity d        \n",
       "1 0.9334246 0.5802469   0.2972973 0.7027027   0.5143718\n",
       "2 0.9625225 0.5555556   0.2702703 0.7297297   0.5201701\n",
       "3 0.9500833 0.5679012   0.2972973 0.7027027   0.5244950\n",
       "4 0.9248589 0.5802469   0.3243243 0.6756757   0.5304516\n",
       "5 0.9639995 0.5432099   0.2702703 0.7297297   0.5307572\n",
       "6 0.9514745 0.5555556   0.2972973 0.7027027   0.5347116"
      ]
     },
     "metadata": {},
     "output_type": "display_data"
    }
   ],
   "source": [
    "distances <- metrics %>% \n",
    "select(threshold...1,tpr,fpr) %>% \n",
    "rename(threshold = threshold...1,\n",
    "       sensitivity = tpr) %>%  \n",
    "mutate(specificity = 1-fpr) %>% \n",
    "mutate(d = sqrt(((1-sensitivity)^2)+((1-specificity)^2))) %>% \n",
    "arrange(d)\n",
    "\n",
    "head(distances)"
   ]
  },
  {
   "cell_type": "code",
   "execution_count": 66,
   "id": "unavailable-turkey",
   "metadata": {},
   "outputs": [],
   "source": [
    "v <- distances$fpr[1]\n",
    "h <- distances$sensitivity[1]\n",
    "thr <- distances$threshold[1]"
   ]
  },
  {
   "cell_type": "code",
   "execution_count": 47,
   "id": "published-quarterly",
   "metadata": {},
   "outputs": [
    {
     "data": {
      "image/png": "[encoded data removed]",
      "text/plain": [
       "Plot with title \"Receiver Operating Characteristic curve\""
      ]
     },
     "metadata": {
      "image/png": {
       "height": 420,
       "width": 420
      }
     },
     "output_type": "display_data"
    }
   ],
   "source": [
    "plot(perf, type=\"roc\")\n",
    "abline(v = v, col = \"red\")\n",
    "abline(h = h, col = \"red\")"
   ]
  },
  {
   "cell_type": "code",
   "execution_count": 27,
   "id": "least-integrity",
   "metadata": {},
   "outputs": [
    {
     "name": "stdout",
     "output_type": "stream",
     "text": [
      "  |======================================================================| 100%\n"
     ]
    }
   ],
   "source": [
    "predictions <- predict(object = h2o_model@leader, newdata = test_data, type = \"prob\")"
   ]
  },
  {
   "cell_type": "code",
   "execution_count": 79,
   "id": "increasing-influence",
   "metadata": {},
   "outputs": [
    {
     "data": {
      "text/html": [
       "<table class=\"dataframe\">\n",
       "<caption>A tibble: 1 × 1</caption>\n",
       "<thead>\n",
       "\t<tr><th scope=col>accuracy</th></tr>\n",
       "\t<tr><th scope=col>&lt;dbl&gt;</th></tr>\n",
       "</thead>\n",
       "<tbody>\n",
       "\t<tr><td>0.6949153</td></tr>\n",
       "</tbody>\n",
       "</table>\n"
      ],
      "text/latex": [
       "A tibble: 1 × 1\n",
       "\\begin{tabular}{l}\n",
       " accuracy\\\\\n",
       " <dbl>\\\\\n",
       "\\hline\n",
       "\t 0.6949153\\\\\n",
       "\\end{tabular}\n"
      ],
      "text/markdown": [
       "\n",
       "A tibble: 1 × 1\n",
       "\n",
       "| accuracy &lt;dbl&gt; |\n",
       "|---|\n",
       "| 0.6949153 |\n",
       "\n"
      ],
      "text/plain": [
       "  accuracy \n",
       "1 0.6949153"
      ]
     },
     "metadata": {},
     "output_type": "display_data"
    }
   ],
   "source": [
    "adjusted_preds <- as_tibble(predictions) %>% \n",
    "bind_cols(test_y) %>% \n",
    "mutate(new_predict = ifelse(test = High_Continuation<thr, yes = \"Low_Continuation\", no = \"High_Continuation\"),\n",
    "       new_predict = as.factor(new_predict))\n",
    "\n",
    "adjusted_preds %>% \n",
    "summarise(accuracy = mean(Continuation_rates==new_predict))"
   ]
  },
  {
   "cell_type": "code",
   "execution_count": 80,
   "id": "nearby-congo",
   "metadata": {},
   "outputs": [
    {
     "data": {
      "text/plain": [
       "Confusion Matrix and Statistics\n",
       "\n",
       "                   Reference\n",
       "Prediction          High_Continuation Low_Continuation\n",
       "  High_Continuation                18               17\n",
       "  Low_Continuation                 19               64\n",
       "                                           \n",
       "               Accuracy : 0.6949           \n",
       "                 95% CI : (0.6034, 0.7763) \n",
       "    No Information Rate : 0.6864           \n",
       "    P-Value [Acc > NIR] : 0.4654           \n",
       "                                           \n",
       "                  Kappa : 0.2807           \n",
       "                                           \n",
       " Mcnemar's Test P-Value : 0.8676           \n",
       "                                           \n",
       "            Sensitivity : 0.4865           \n",
       "            Specificity : 0.7901           \n",
       "         Pos Pred Value : 0.5143           \n",
       "         Neg Pred Value : 0.7711           \n",
       "             Prevalence : 0.3136           \n",
       "         Detection Rate : 0.1525           \n",
       "   Detection Prevalence : 0.2966           \n",
       "      Balanced Accuracy : 0.6383           \n",
       "                                           \n",
       "       'Positive' Class : High_Continuation\n",
       "                                           "
      ]
     },
     "metadata": {},
     "output_type": "display_data"
    }
   ],
   "source": [
    "caret::confusionMatrix(reference = adjusted_preds$Continuation_rates, \n",
    "                       data = adjusted_preds$new_predict)"
   ]
  },
  {
   "cell_type": "code",
   "execution_count": 82,
   "id": "hispanic-listing",
   "metadata": {},
   "outputs": [
    {
     "data": {
      "text/html": [
       "0.790123456790123"
      ],
      "text/latex": [
       "0.790123456790123"
      ],
      "text/markdown": [
       "0.790123456790123"
      ],
      "text/plain": [
       "[1] 0.7901235"
      ]
     },
     "metadata": {},
     "output_type": "display_data"
    }
   ],
   "source": [
    "#Accuracy for the low continuation category (specificity)\n",
    "64/(64+17)"
   ]
  },
  {
   "cell_type": "code",
   "execution_count": 114,
   "id": "dress-stereo",
   "metadata": {},
   "outputs": [
    {
     "data": {
      "text/html": [
       "0.486486486486487"
      ],
      "text/latex": [
       "0.486486486486487"
      ],
      "text/markdown": [
       "0.486486486486487"
      ],
      "text/plain": [
       "[1] 0.4864865"
      ]
     },
     "metadata": {},
     "output_type": "display_data"
    }
   ],
   "source": [
    "#High continuation accuracy (sensitivity)\n",
    "18/(18+19)"
   ]
  },
  {
   "cell_type": "code",
   "execution_count": 117,
   "id": "latter-signature",
   "metadata": {},
   "outputs": [
    {
     "data": {
      "text/html": [
       "0.678345011678345"
      ],
      "text/latex": [
       "0.678345011678345"
      ],
      "text/markdown": [
       "0.678345011678345"
      ],
      "text/plain": [
       "[1] 0.678345"
      ]
     },
     "metadata": {},
     "output_type": "display_data"
    }
   ],
   "source": [
    "h2o.auc(object = perf)"
   ]
  },
  {
   "cell_type": "markdown",
   "id": "tamil-cookbook",
   "metadata": {},
   "source": [
    "# Operating point in a pr curve"
   ]
  },
  {
   "cell_type": "markdown",
   "id": "flying-novel",
   "metadata": {},
   "source": [
    "PR curves are suitable for imbalanced classes or where the minority class is important. According to wikipedia, sensitivity, recall, and tpr are the same thing. The labels of this chart are interchanged (i.e. tpr is recall) but the formula generating them is correct. In a PR Curve, the goal is to be on the top right corner."
   ]
  },
  {
   "cell_type": "code",
   "execution_count": 31,
   "id": "resident-pressure",
   "metadata": {},
   "outputs": [
    {
     "data": {
      "image/png": "[encoded data removed]",
      "text/plain": [
       "Plot with title \"Precision Recall curve\""
      ]
     },
     "metadata": {
      "image/png": {
       "height": 420,
       "width": 420
      }
     },
     "output_type": "display_data"
    }
   ],
   "source": [
    "#PRC OPERATING POINT\n",
    "plot(perf, type=\"pr\")"
   ]
  },
  {
   "cell_type": "code",
   "execution_count": 49,
   "id": "forward-inside",
   "metadata": {},
   "outputs": [
    {
     "data": {
      "text/html": [
       "<style>\n",
       ".list-inline {list-style: none; margin:0; padding: 0}\n",
       ".list-inline>li {display: inline-block}\n",
       ".list-inline>li:not(:last-child)::after {content: \"\\00b7\"; padding: 0 .5ex}\n",
       "</style>\n",
       "<ol class=list-inline><li>'adjusted_preds'</li><li>'data'</li><li>'distances'</li><li>'h'</li><li>'h2o_model'</li><li>'localH2O'</li><li>'metrics'</li><li>'outcome'</li><li>'perf'</li><li>'predictions'</li><li>'predictors'</li><li>'prostate.ctrs'</li><li>'prostate.data'</li><li>'prostate.hex'</li><li>'prostate.km'</li><li>'test_data'</li><li>'test_x'</li><li>'test_y'</li><li>'train_data'</li><li>'train_idx'</li><li>'train_x'</li><li>'train_y'</li><li>'training_results'</li><li>'v'</li></ol>\n"
      ],
      "text/latex": [
       "\\begin{enumerate*}\n",
       "\\item 'adjusted\\_preds'\n",
       "\\item 'data'\n",
       "\\item 'distances'\n",
       "\\item 'h'\n",
       "\\item 'h2o\\_model'\n",
       "\\item 'localH2O'\n",
       "\\item 'metrics'\n",
       "\\item 'outcome'\n",
       "\\item 'perf'\n",
       "\\item 'predictions'\n",
       "\\item 'predictors'\n",
       "\\item 'prostate.ctrs'\n",
       "\\item 'prostate.data'\n",
       "\\item 'prostate.hex'\n",
       "\\item 'prostate.km'\n",
       "\\item 'test\\_data'\n",
       "\\item 'test\\_x'\n",
       "\\item 'test\\_y'\n",
       "\\item 'train\\_data'\n",
       "\\item 'train\\_idx'\n",
       "\\item 'train\\_x'\n",
       "\\item 'train\\_y'\n",
       "\\item 'training\\_results'\n",
       "\\item 'v'\n",
       "\\end{enumerate*}\n"
      ],
      "text/markdown": [
       "1. 'adjusted_preds'\n",
       "2. 'data'\n",
       "3. 'distances'\n",
       "4. 'h'\n",
       "5. 'h2o_model'\n",
       "6. 'localH2O'\n",
       "7. 'metrics'\n",
       "8. 'outcome'\n",
       "9. 'perf'\n",
       "10. 'predictions'\n",
       "11. 'predictors'\n",
       "12. 'prostate.ctrs'\n",
       "13. 'prostate.data'\n",
       "14. 'prostate.hex'\n",
       "15. 'prostate.km'\n",
       "16. 'test_data'\n",
       "17. 'test_x'\n",
       "18. 'test_y'\n",
       "19. 'train_data'\n",
       "20. 'train_idx'\n",
       "21. 'train_x'\n",
       "22. 'train_y'\n",
       "23. 'training_results'\n",
       "24. 'v'\n",
       "\n",
       "\n"
      ],
      "text/plain": [
       " [1] \"adjusted_preds\"   \"data\"             \"distances\"        \"h\"               \n",
       " [5] \"h2o_model\"        \"localH2O\"         \"metrics\"          \"outcome\"         \n",
       " [9] \"perf\"             \"predictions\"      \"predictors\"       \"prostate.ctrs\"   \n",
       "[13] \"prostate.data\"    \"prostate.hex\"     \"prostate.km\"      \"test_data\"       \n",
       "[17] \"test_x\"           \"test_y\"           \"train_data\"       \"train_idx\"       \n",
       "[21] \"train_x\"          \"train_y\"          \"training_results\" \"v\"               "
      ]
     },
     "metadata": {},
     "output_type": "display_data"
    }
   ],
   "source": [
    "ls()"
   ]
  },
  {
   "cell_type": "markdown",
   "id": "prepared-embassy",
   "metadata": {},
   "source": [
    "## Distances in a graph"
   ]
  },
  {
   "cell_type": "markdown",
   "id": "retired-reflection",
   "metadata": {},
   "source": [
    "The distance from a point $(x1,y1)$ in a curve to a second point $(x2,y2)$ in a graph is given by the formula: <br><br>\n",
    "`d = sqrt((x2 - x1)^2 + (y2 - y1)^2)`\n",
    "\n",
    "Ref: \n",
    "1. https://youtu.be/_TlaihVGmVU\n",
    "2. https://youtu.be/pW8JU76Oj84"
   ]
  },
  {
   "cell_type": "code",
   "execution_count": 60,
   "id": "plain-lindsay",
   "metadata": {},
   "outputs": [
    {
     "name": "stderr",
     "output_type": "stream",
     "text": [
      "New names:\n",
      "* threshold -> threshold...1\n",
      "* threshold -> threshold...3\n",
      "\n"
     ]
    },
    {
     "data": {
      "text/html": [
       "<table class=\"dataframe\">\n",
       "<caption>A tibble: 6 × 4</caption>\n",
       "<thead>\n",
       "\t<tr><th scope=col>thr</th><th scope=col>precision</th><th scope=col>tpr</th><th scope=col>d</th></tr>\n",
       "\t<tr><th scope=col>&lt;dbl&gt;</th><th scope=col>&lt;dbl&gt;</th><th scope=col>&lt;dbl&gt;</th><th scope=col>&lt;dbl&gt;</th></tr>\n",
       "</thead>\n",
       "<tbody>\n",
       "\t<tr><td>0.003042203</td><td>0.7403846</td><td>0.9506173</td><td>0.2642703</td></tr>\n",
       "\t<tr><td>0.004268013</td><td>0.7474747</td><td>0.9135802</td><td>0.2669033</td></tr>\n",
       "\t<tr><td>0.030815655</td><td>0.7692308</td><td>0.8641975</td><td>0.2677625</td></tr>\n",
       "\t<tr><td>0.003720736</td><td>0.7425743</td><td>0.9259259</td><td>0.2678712</td></tr>\n",
       "\t<tr><td>0.032620300</td><td>0.7752809</td><td>0.8518519</td><td>0.2691590</td></tr>\n",
       "\t<tr><td>0.003349901</td><td>0.7378641</td><td>0.9382716</td><td>0.2693058</td></tr>\n",
       "</tbody>\n",
       "</table>\n"
      ],
      "text/latex": [
       "A tibble: 6 × 4\n",
       "\\begin{tabular}{llll}\n",
       " thr & precision & tpr & d\\\\\n",
       " <dbl> & <dbl> & <dbl> & <dbl>\\\\\n",
       "\\hline\n",
       "\t 0.003042203 & 0.7403846 & 0.9506173 & 0.2642703\\\\\n",
       "\t 0.004268013 & 0.7474747 & 0.9135802 & 0.2669033\\\\\n",
       "\t 0.030815655 & 0.7692308 & 0.8641975 & 0.2677625\\\\\n",
       "\t 0.003720736 & 0.7425743 & 0.9259259 & 0.2678712\\\\\n",
       "\t 0.032620300 & 0.7752809 & 0.8518519 & 0.2691590\\\\\n",
       "\t 0.003349901 & 0.7378641 & 0.9382716 & 0.2693058\\\\\n",
       "\\end{tabular}\n"
      ],
      "text/markdown": [
       "\n",
       "A tibble: 6 × 4\n",
       "\n",
       "| thr &lt;dbl&gt; | precision &lt;dbl&gt; | tpr &lt;dbl&gt; | d &lt;dbl&gt; |\n",
       "|---|---|---|---|\n",
       "| 0.003042203 | 0.7403846 | 0.9506173 | 0.2642703 |\n",
       "| 0.004268013 | 0.7474747 | 0.9135802 | 0.2669033 |\n",
       "| 0.030815655 | 0.7692308 | 0.8641975 | 0.2677625 |\n",
       "| 0.003720736 | 0.7425743 | 0.9259259 | 0.2678712 |\n",
       "| 0.032620300 | 0.7752809 | 0.8518519 | 0.2691590 |\n",
       "| 0.003349901 | 0.7378641 | 0.9382716 | 0.2693058 |\n",
       "\n"
      ],
      "text/plain": [
       "  thr         precision tpr       d        \n",
       "1 0.003042203 0.7403846 0.9506173 0.2642703\n",
       "2 0.004268013 0.7474747 0.9135802 0.2669033\n",
       "3 0.030815655 0.7692308 0.8641975 0.2677625\n",
       "4 0.003720736 0.7425743 0.9259259 0.2678712\n",
       "5 0.032620300 0.7752809 0.8518519 0.2691590\n",
       "6 0.003349901 0.7378641 0.9382716 0.2693058"
      ]
     },
     "metadata": {},
     "output_type": "display_data"
    }
   ],
   "source": [
    "pr_distances <- bind_cols(as_tibble(h2o.precision(object = perf)),\n",
    "as_tibble(h2o.recall(object = perf))) %>% \n",
    "select(thr = threshold...1, precision, tpr) %>% \n",
    "mutate(d = sqrt((1-tpr)^2+(1-precision)^2)) %>% \n",
    "arrange(d)\n",
    "\n",
    "head(pr_distances)"
   ]
  },
  {
   "cell_type": "code",
   "execution_count": 88,
   "id": "julian-theorem",
   "metadata": {},
   "outputs": [],
   "source": [
    "y <- pr_distances$precision[1]\n",
    "x <- pr_distances$tpr[1]\n",
    "pr_thr <- pr_distances$thr[1]"
   ]
  },
  {
   "cell_type": "code",
   "execution_count": 64,
   "id": "former-america",
   "metadata": {},
   "outputs": [
    {
     "data": {
      "image/png": "[encoded data removed]",
      "text/plain": [
       "Plot with title \"Precision Recall curve\""
      ]
     },
     "metadata": {
      "image/png": {
       "height": 420,
       "width": 420
      }
     },
     "output_type": "display_data"
    }
   ],
   "source": [
    "plot(perf, type=\"pr\")\n",
    "abline(v = x, col=\"red\")\n",
    "abline(h = y, col=\"red\")"
   ]
  },
  {
   "cell_type": "code",
   "execution_count": 85,
   "id": "trying-lending",
   "metadata": {},
   "outputs": [
    {
     "name": "stdout",
     "output_type": "stream",
     "text": [
      "  |======================================================================| 100%\n"
     ]
    }
   ],
   "source": [
    "pr_predictions <- predict(object = h2o_model@leader, newdata = test_data, type = \"probs\")"
   ]
  },
  {
   "cell_type": "code",
   "execution_count": 91,
   "id": "renewable-hopkins",
   "metadata": {},
   "outputs": [
    {
     "data": {
      "text/html": [
       "<table class=\"dataframe\">\n",
       "<caption>A data.frame: 6 × 3</caption>\n",
       "<thead>\n",
       "\t<tr><th></th><th scope=col>predict</th><th scope=col>High_Continuation</th><th scope=col>Low_Continuation</th></tr>\n",
       "\t<tr><th></th><th scope=col>&lt;fct&gt;</th><th scope=col>&lt;dbl&gt;</th><th scope=col>&lt;dbl&gt;</th></tr>\n",
       "</thead>\n",
       "<tbody>\n",
       "\t<tr><th scope=row>1</th><td>Low_Continuation </td><td>2.491374e-17</td><td>1.000000000</td></tr>\n",
       "\t<tr><th scope=row>2</th><td>High_Continuation</td><td>9.976767e-01</td><td>0.002323325</td></tr>\n",
       "\t<tr><th scope=row>3</th><td>Low_Continuation </td><td>5.683376e-03</td><td>0.994316624</td></tr>\n",
       "\t<tr><th scope=row>4</th><td>Low_Continuation </td><td>6.430425e-01</td><td>0.356957509</td></tr>\n",
       "\t<tr><th scope=row>5</th><td>Low_Continuation </td><td>6.591454e-03</td><td>0.993408546</td></tr>\n",
       "\t<tr><th scope=row>6</th><td>Low_Continuation </td><td>1.478222e-07</td><td>0.999999852</td></tr>\n",
       "</tbody>\n",
       "</table>\n"
      ],
      "text/latex": [
       "A data.frame: 6 × 3\n",
       "\\begin{tabular}{r|lll}\n",
       "  & predict & High\\_Continuation & Low\\_Continuation\\\\\n",
       "  & <fct> & <dbl> & <dbl>\\\\\n",
       "\\hline\n",
       "\t1 & Low\\_Continuation  & 2.491374e-17 & 1.000000000\\\\\n",
       "\t2 & High\\_Continuation & 9.976767e-01 & 0.002323325\\\\\n",
       "\t3 & Low\\_Continuation  & 5.683376e-03 & 0.994316624\\\\\n",
       "\t4 & Low\\_Continuation  & 6.430425e-01 & 0.356957509\\\\\n",
       "\t5 & Low\\_Continuation  & 6.591454e-03 & 0.993408546\\\\\n",
       "\t6 & Low\\_Continuation  & 1.478222e-07 & 0.999999852\\\\\n",
       "\\end{tabular}\n"
      ],
      "text/markdown": [
       "\n",
       "A data.frame: 6 × 3\n",
       "\n",
       "| <!--/--> | predict &lt;fct&gt; | High_Continuation &lt;dbl&gt; | Low_Continuation &lt;dbl&gt; |\n",
       "|---|---|---|---|\n",
       "| 1 | Low_Continuation  | 2.491374e-17 | 1.000000000 |\n",
       "| 2 | High_Continuation | 9.976767e-01 | 0.002323325 |\n",
       "| 3 | Low_Continuation  | 5.683376e-03 | 0.994316624 |\n",
       "| 4 | Low_Continuation  | 6.430425e-01 | 0.356957509 |\n",
       "| 5 | Low_Continuation  | 6.591454e-03 | 0.993408546 |\n",
       "| 6 | Low_Continuation  | 1.478222e-07 | 0.999999852 |\n",
       "\n"
      ],
      "text/plain": [
       "  predict           High_Continuation Low_Continuation\n",
       "1 Low_Continuation  2.491374e-17      1.000000000     \n",
       "2 High_Continuation 9.976767e-01      0.002323325     \n",
       "3 Low_Continuation  5.683376e-03      0.994316624     \n",
       "4 Low_Continuation  6.430425e-01      0.356957509     \n",
       "5 Low_Continuation  6.591454e-03      0.993408546     \n",
       "6 Low_Continuation  1.478222e-07      0.999999852     "
      ]
     },
     "metadata": {},
     "output_type": "display_data"
    }
   ],
   "source": [
    "head(pr_predictions)"
   ]
  },
  {
   "cell_type": "code",
   "execution_count": 108,
   "id": "impaired-rebound",
   "metadata": {},
   "outputs": [
    {
     "data": {
      "text/html": [
       "<table class=\"dataframe\">\n",
       "<caption>A tibble: 1 × 1</caption>\n",
       "<thead>\n",
       "\t<tr><th scope=col>accuracy</th></tr>\n",
       "\t<tr><th scope=col>&lt;dbl&gt;</th></tr>\n",
       "</thead>\n",
       "<tbody>\n",
       "\t<tr><td>0.7372881</td></tr>\n",
       "</tbody>\n",
       "</table>\n"
      ],
      "text/latex": [
       "A tibble: 1 × 1\n",
       "\\begin{tabular}{l}\n",
       " accuracy\\\\\n",
       " <dbl>\\\\\n",
       "\\hline\n",
       "\t 0.7372881\\\\\n",
       "\\end{tabular}\n"
      ],
      "text/markdown": [
       "\n",
       "A tibble: 1 × 1\n",
       "\n",
       "| accuracy &lt;dbl&gt; |\n",
       "|---|\n",
       "| 0.7372881 |\n",
       "\n"
      ],
      "text/plain": [
       "  accuracy \n",
       "1 0.7372881"
      ]
     },
     "metadata": {},
     "output_type": "display_data"
    }
   ],
   "source": [
    "pr_adj_preds <- pr_predictions %>% \n",
    "as_tibble() %>% \n",
    "mutate(adj_pred = ifelse(test = Low_Continuation<pr_thr, yes = \"High_Continuation\", no = \"Low_Continuation\"),\n",
    "       adj_pred = as.factor(adj_pred)) %>% \n",
    "bind_cols(test_y)\n",
    "\n",
    "pr_adj_preds %>% \n",
    "summarise(accuracy = mean(adj_pred==Continuation_rates))"
   ]
  },
  {
   "cell_type": "code",
   "execution_count": 110,
   "id": "union-oliver",
   "metadata": {},
   "outputs": [
    {
     "data": {
      "text/plain": [
       "Confusion Matrix and Statistics\n",
       "\n",
       "                   Reference\n",
       "Prediction          High_Continuation Low_Continuation\n",
       "  High_Continuation                10                4\n",
       "  Low_Continuation                 27               77\n",
       "                                           \n",
       "               Accuracy : 0.7373           \n",
       "                 95% CI : (0.6483, 0.814)  \n",
       "    No Information Rate : 0.6864           \n",
       "    P-Value [Acc > NIR] : 0.1369           \n",
       "                                           \n",
       "                  Kappa : 0.2658           \n",
       "                                           \n",
       " Mcnemar's Test P-Value : 7.772e-05        \n",
       "                                           \n",
       "            Sensitivity : 0.27027          \n",
       "            Specificity : 0.95062          \n",
       "         Pos Pred Value : 0.71429          \n",
       "         Neg Pred Value : 0.74038          \n",
       "             Prevalence : 0.31356          \n",
       "         Detection Rate : 0.08475          \n",
       "   Detection Prevalence : 0.11864          \n",
       "      Balanced Accuracy : 0.61044          \n",
       "                                           \n",
       "       'Positive' Class : High_Continuation\n",
       "                                           "
      ]
     },
     "metadata": {},
     "output_type": "display_data"
    }
   ],
   "source": [
    "caret::confusionMatrix(data = pr_adj_preds$adj_pred, reference = pr_adj_preds$Continuation_rates)"
   ]
  },
  {
   "cell_type": "code",
   "execution_count": 111,
   "id": "separated-spider",
   "metadata": {},
   "outputs": [
    {
     "data": {
      "text/html": [
       "0.27027027027027"
      ],
      "text/latex": [
       "0.27027027027027"
      ],
      "text/markdown": [
       "0.27027027027027"
      ],
      "text/plain": [
       "[1] 0.2702703"
      ]
     },
     "metadata": {},
     "output_type": "display_data"
    }
   ],
   "source": [
    "#High continuation accuracy (sensitivity)\n",
    "10/(10+27)"
   ]
  },
  {
   "cell_type": "code",
   "execution_count": 113,
   "id": "coastal-gnome",
   "metadata": {},
   "outputs": [
    {
     "data": {
      "text/html": [
       "0.950617283950617"
      ],
      "text/latex": [
       "0.950617283950617"
      ],
      "text/markdown": [
       "0.950617283950617"
      ],
      "text/plain": [
       "[1] 0.9506173"
      ]
     },
     "metadata": {},
     "output_type": "display_data"
    }
   ],
   "source": [
    "#Low continuation accuracy (specificity)\n",
    "77/(77+4)"
   ]
  },
  {
   "cell_type": "code",
   "execution_count": 116,
   "id": "sublime-illustration",
   "metadata": {},
   "outputs": [
    {
     "data": {
      "text/html": [
       "0.799254256683513"
      ],
      "text/latex": [
       "0.799254256683513"
      ],
      "text/markdown": [
       "0.799254256683513"
      ],
      "text/plain": [
       "[1] 0.7992543"
      ]
     },
     "metadata": {},
     "output_type": "display_data"
    }
   ],
   "source": [
    "h2o.aucpr(object = perf)"
   ]
  },
  {
   "cell_type": "code",
   "execution_count": 48,
   "id": "shared-civilian",
   "metadata": {},
   "outputs": [],
   "source": [
    "save.image(\"./h2o_ml.RData\")"
   ]
  }
 ],
 "metadata": {
  "kernelspec": {
   "display_name": "R",
   "language": "R",
   "name": "ir"
  },
  "language_info": {
   "codemirror_mode": "r",
   "file_extension": ".r",
   "mimetype": "text/x-r-source",
   "name": "R",
   "pygments_lexer": "r",
   "version": "4.0.2"
  }
 },
 "nbformat": 4,
 "nbformat_minor": 5
}
